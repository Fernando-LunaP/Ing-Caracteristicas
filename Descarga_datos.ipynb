{
  "nbformat": 4,
  "nbformat_minor": 0,
  "metadata": {
    "colab": {
      "name": "Descarga_datos.ipynb",
      "provenance": [],
      "authorship_tag": "ABX9TyNYEEcttK8TuGW6m9FKZrDy",
      "include_colab_link": true
    },
    "kernelspec": {
      "name": "python3",
      "display_name": "Python 3"
    },
    "language_info": {
      "name": "python"
    }
  },
  "cells": [
    {
      "cell_type": "markdown",
      "metadata": {
        "id": "view-in-github",
        "colab_type": "text"
      },
      "source": [
        "<a href=\"https://colab.research.google.com/github/Fernando-LunaP/Ing-Caracteristicas/blob/main/Descarga_datos.ipynb\" target=\"_parent\"><img src=\"https://colab.research.google.com/assets/colab-badge.svg\" alt=\"Open In Colab\"/></a>"
      ]
    },
    {
      "cell_type": "markdown",
      "source": [
        "**Descargando datos**"
      ],
      "metadata": {
        "id": "9YlIgovJ-0Cg"
      }
    },
    {
      "cell_type": "markdown",
      "source": [
        "1. Importamos las librerías necesarias:"
      ],
      "metadata": {
        "id": "WQbF_cdjq1vP"
      }
    },
    {
      "cell_type": "code",
      "source": [
        "import os  # Para manejo de archivos y directorios\n",
        "import urllib.request # Una forma estandard de descargar datos\n",
        "# import requests # Otra forma no de las librerías de uso comun\n",
        "\n",
        "import datetime # Fecha de descarga\n",
        "import pandas as pd # Solo para ver el archivo descargado\n",
        "import zipfile # Descompresión de archivos"
      ],
      "metadata": {
        "id": "_9tXlEnP-zkp"
      },
      "execution_count": null,
      "outputs": []
    },
    {
      "cell_type": "code",
      "execution_count": null,
      "metadata": {
        "id": "TWhUfu0Q-t0B"
      },
      "outputs": [],
      "source": [
        ""
      ]
    }
  ]
}