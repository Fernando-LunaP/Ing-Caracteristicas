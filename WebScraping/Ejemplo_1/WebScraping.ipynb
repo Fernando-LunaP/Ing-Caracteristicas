{
  "cells": [
    {
      "cell_type": "markdown",
      "metadata": {
        "id": "view-in-github",
        "colab_type": "text"
      },
      "source": [
        "<a href=\"https://colab.research.google.com/github/Fernando-LunaP/Ing-Caracteristicas/blob/main/WebScraping/Ejemplo_1/WebScraping.ipynb\" target=\"_parent\"><img src=\"https://colab.research.google.com/assets/colab-badge.svg\" alt=\"Open In Colab\"/></a>"
      ]
    },
    {
      "cell_type": "markdown",
      "metadata": {
        "id": "2sldb_PWlHGR"
      },
      "source": [
        "**Web Scraping**"
      ]
    },
    {
      "cell_type": "markdown",
      "metadata": {
        "id": "MhXnppBalSPC"
      },
      "source": [
        "Vamos a utilizar las librerías BeautifulSoup, requests y pandas para realizar el web scraping sobre la página de CoinMarket para obtener la lista de las 10 criptomonedas más importantes por orden de capitalización."
      ]
    },
    {
      "cell_type": "code",
      "execution_count": 37,
      "metadata": {
        "id": "Fs513oOfk8rl"
      },
      "outputs": [],
      "source": [
        "from bs4 import BeautifulSoup\n",
        "import requests\n",
        "import pandas as pd"
      ]
    },
    {
      "cell_type": "markdown",
      "metadata": {
        "id": "NqhyQjfPmsaU"
      },
      "source": [
        "Colocamos la url de donde queremos obtener la información."
      ]
    },
    {
      "cell_type": "code",
      "execution_count": 38,
      "metadata": {
        "id": "WUPgl0jOmtyx"
      },
      "outputs": [],
      "source": [
        "url = 'https://coinmarketcap.com/es/'\n",
        "page = requests.get(url) # Realizamos la petición a la url solicitada\n",
        "soup = BeautifulSoup(page.content, 'html.parser') # Le damos formato html a la información\n"
      ]
    },
    {
      "cell_type": "markdown",
      "source": [
        "Realizamos la búsqueda por elementos de html"
      ],
      "metadata": {
        "id": "CvDZzVKNaCmI"
      }
    },
    {
      "cell_type": "code",
      "source": [
        "# utilizamos find para encontrar el elemento div que pertenece a la clase h7vnx2-1 bFzXgL\n",
        "# en este div está contenida una tabla con los valores que necesitamos\n",
        "tabla = soup.find('div', class_='h7vnx2-1 bFzXgL')\n",
        "\n",
        "valores = tabla.find('tbody') # Buscamos el cuerpo de la tabla\n",
        "\n",
        "# Generamos listas para almacenar toda la información que deseamos almacenar\n",
        "listaPosicion = list(range(10))\n",
        "listaNombres = list()\n",
        "listaSimbolos = list()\n",
        "listaPrecios = list()"
      ],
      "metadata": {
        "id": "epa7060LEH7l"
      },
      "execution_count": 39,
      "outputs": []
    },
    {
      "cell_type": "markdown",
      "source": [
        "Almacenamos las primeras 10 filas de la tabla que contienen la información requerida y vamos extrayendo uno a uno los valores que necesitamos."
      ],
      "metadata": {
        "id": "Jr1C9Q3NdU-y"
      }
    },
    {
      "cell_type": "code",
      "source": [
        "# Generamos un ciclo para recorrer la cantidad de elementos que deseamos extraer\n",
        "for i in range(10):\n",
        "    listaPosicion[i] = i+1 # Guardamos la posición de todos los elementos que vamos a tomar\n",
        "\n",
        "    # Para cada valor que queremos extraer lo guardaremos de manera temporal en una variable\n",
        "    nombre = valores.find_all('tr')[i].find_all('td')[2].find_all('p')[0].string\n",
        "\n",
        "    # Se agrega el valor a una lista\n",
        "    listaNombres.append(nombre)\n",
        "\n",
        "    simbolo = valores.find_all('tr')[i].find_all('td')[2].find_all('p')[1].string\n",
        "    listaSimbolos.append(simbolo)\n",
        "\n",
        "    precio = valores.find_all('tr')[i].find_all('td')[3].find_all('span')[0].string\n",
        "    listaPrecios.append(precio)\n",
        "\n",
        "\n",
        "# Generamos un dataframe que incluya todos los valores que requerimos\n",
        "df = pd.DataFrame({'Posicion': listaPosicion, 'Nombre': listaNombres, 'Simbolo': listaSimbolos, 'Precio': listaPrecios})\n",
        "df"
      ],
      "metadata": {
        "colab": {
          "base_uri": "https://localhost:8080/",
          "height": 363
        },
        "id": "C4vLtyffdNDE",
        "outputId": "4721cd8b-a0c3-4988-822c-faa4bf3c702f"
      },
      "execution_count": 40,
      "outputs": [
        {
          "output_type": "execute_result",
          "data": {
            "text/plain": [
              "   Posicion       Nombre Simbolo      Precio\n",
              "0         1      Bitcoin     BTC  $19,759.30\n",
              "1         2     Ethereum     ETH   $1,445.50\n",
              "2         3       Tether    USDT       $1.00\n",
              "3         4     USD Coin    USDC       $1.00\n",
              "4         5          BNB     BNB     $278.60\n",
              "5         6  Binance USD    BUSD       $1.00\n",
              "6         7          XRP     XRP     $0.3221\n",
              "7         8      Cardano     ADA     $0.4318\n",
              "8         9       Solana     SOL      $30.58\n",
              "9        10     Dogecoin    DOGE    $0.06177"
            ],
            "text/html": [
              "\n",
              "  <div id=\"df-7828ae72-b668-4694-92e1-c0d1c5e35cc7\">\n",
              "    <div class=\"colab-df-container\">\n",
              "      <div>\n",
              "<style scoped>\n",
              "    .dataframe tbody tr th:only-of-type {\n",
              "        vertical-align: middle;\n",
              "    }\n",
              "\n",
              "    .dataframe tbody tr th {\n",
              "        vertical-align: top;\n",
              "    }\n",
              "\n",
              "    .dataframe thead th {\n",
              "        text-align: right;\n",
              "    }\n",
              "</style>\n",
              "<table border=\"1\" class=\"dataframe\">\n",
              "  <thead>\n",
              "    <tr style=\"text-align: right;\">\n",
              "      <th></th>\n",
              "      <th>Posicion</th>\n",
              "      <th>Nombre</th>\n",
              "      <th>Simbolo</th>\n",
              "      <th>Precio</th>\n",
              "    </tr>\n",
              "  </thead>\n",
              "  <tbody>\n",
              "    <tr>\n",
              "      <th>0</th>\n",
              "      <td>1</td>\n",
              "      <td>Bitcoin</td>\n",
              "      <td>BTC</td>\n",
              "      <td>$19,759.30</td>\n",
              "    </tr>\n",
              "    <tr>\n",
              "      <th>1</th>\n",
              "      <td>2</td>\n",
              "      <td>Ethereum</td>\n",
              "      <td>ETH</td>\n",
              "      <td>$1,445.50</td>\n",
              "    </tr>\n",
              "    <tr>\n",
              "      <th>2</th>\n",
              "      <td>3</td>\n",
              "      <td>Tether</td>\n",
              "      <td>USDT</td>\n",
              "      <td>$1.00</td>\n",
              "    </tr>\n",
              "    <tr>\n",
              "      <th>3</th>\n",
              "      <td>4</td>\n",
              "      <td>USD Coin</td>\n",
              "      <td>USDC</td>\n",
              "      <td>$1.00</td>\n",
              "    </tr>\n",
              "    <tr>\n",
              "      <th>4</th>\n",
              "      <td>5</td>\n",
              "      <td>BNB</td>\n",
              "      <td>BNB</td>\n",
              "      <td>$278.60</td>\n",
              "    </tr>\n",
              "    <tr>\n",
              "      <th>5</th>\n",
              "      <td>6</td>\n",
              "      <td>Binance USD</td>\n",
              "      <td>BUSD</td>\n",
              "      <td>$1.00</td>\n",
              "    </tr>\n",
              "    <tr>\n",
              "      <th>6</th>\n",
              "      <td>7</td>\n",
              "      <td>XRP</td>\n",
              "      <td>XRP</td>\n",
              "      <td>$0.3221</td>\n",
              "    </tr>\n",
              "    <tr>\n",
              "      <th>7</th>\n",
              "      <td>8</td>\n",
              "      <td>Cardano</td>\n",
              "      <td>ADA</td>\n",
              "      <td>$0.4318</td>\n",
              "    </tr>\n",
              "    <tr>\n",
              "      <th>8</th>\n",
              "      <td>9</td>\n",
              "      <td>Solana</td>\n",
              "      <td>SOL</td>\n",
              "      <td>$30.58</td>\n",
              "    </tr>\n",
              "    <tr>\n",
              "      <th>9</th>\n",
              "      <td>10</td>\n",
              "      <td>Dogecoin</td>\n",
              "      <td>DOGE</td>\n",
              "      <td>$0.06177</td>\n",
              "    </tr>\n",
              "  </tbody>\n",
              "</table>\n",
              "</div>\n",
              "      <button class=\"colab-df-convert\" onclick=\"convertToInteractive('df-7828ae72-b668-4694-92e1-c0d1c5e35cc7')\"\n",
              "              title=\"Convert this dataframe to an interactive table.\"\n",
              "              style=\"display:none;\">\n",
              "        \n",
              "  <svg xmlns=\"http://www.w3.org/2000/svg\" height=\"24px\"viewBox=\"0 0 24 24\"\n",
              "       width=\"24px\">\n",
              "    <path d=\"M0 0h24v24H0V0z\" fill=\"none\"/>\n",
              "    <path d=\"M18.56 5.44l.94 2.06.94-2.06 2.06-.94-2.06-.94-.94-2.06-.94 2.06-2.06.94zm-11 1L8.5 8.5l.94-2.06 2.06-.94-2.06-.94L8.5 2.5l-.94 2.06-2.06.94zm10 10l.94 2.06.94-2.06 2.06-.94-2.06-.94-.94-2.06-.94 2.06-2.06.94z\"/><path d=\"M17.41 7.96l-1.37-1.37c-.4-.4-.92-.59-1.43-.59-.52 0-1.04.2-1.43.59L10.3 9.45l-7.72 7.72c-.78.78-.78 2.05 0 2.83L4 21.41c.39.39.9.59 1.41.59.51 0 1.02-.2 1.41-.59l7.78-7.78 2.81-2.81c.8-.78.8-2.07 0-2.86zM5.41 20L4 18.59l7.72-7.72 1.47 1.35L5.41 20z\"/>\n",
              "  </svg>\n",
              "      </button>\n",
              "      \n",
              "  <style>\n",
              "    .colab-df-container {\n",
              "      display:flex;\n",
              "      flex-wrap:wrap;\n",
              "      gap: 12px;\n",
              "    }\n",
              "\n",
              "    .colab-df-convert {\n",
              "      background-color: #E8F0FE;\n",
              "      border: none;\n",
              "      border-radius: 50%;\n",
              "      cursor: pointer;\n",
              "      display: none;\n",
              "      fill: #1967D2;\n",
              "      height: 32px;\n",
              "      padding: 0 0 0 0;\n",
              "      width: 32px;\n",
              "    }\n",
              "\n",
              "    .colab-df-convert:hover {\n",
              "      background-color: #E2EBFA;\n",
              "      box-shadow: 0px 1px 2px rgba(60, 64, 67, 0.3), 0px 1px 3px 1px rgba(60, 64, 67, 0.15);\n",
              "      fill: #174EA6;\n",
              "    }\n",
              "\n",
              "    [theme=dark] .colab-df-convert {\n",
              "      background-color: #3B4455;\n",
              "      fill: #D2E3FC;\n",
              "    }\n",
              "\n",
              "    [theme=dark] .colab-df-convert:hover {\n",
              "      background-color: #434B5C;\n",
              "      box-shadow: 0px 1px 3px 1px rgba(0, 0, 0, 0.15);\n",
              "      filter: drop-shadow(0px 1px 2px rgba(0, 0, 0, 0.3));\n",
              "      fill: #FFFFFF;\n",
              "    }\n",
              "  </style>\n",
              "\n",
              "      <script>\n",
              "        const buttonEl =\n",
              "          document.querySelector('#df-7828ae72-b668-4694-92e1-c0d1c5e35cc7 button.colab-df-convert');\n",
              "        buttonEl.style.display =\n",
              "          google.colab.kernel.accessAllowed ? 'block' : 'none';\n",
              "\n",
              "        async function convertToInteractive(key) {\n",
              "          const element = document.querySelector('#df-7828ae72-b668-4694-92e1-c0d1c5e35cc7');\n",
              "          const dataTable =\n",
              "            await google.colab.kernel.invokeFunction('convertToInteractive',\n",
              "                                                     [key], {});\n",
              "          if (!dataTable) return;\n",
              "\n",
              "          const docLinkHtml = 'Like what you see? Visit the ' +\n",
              "            '<a target=\"_blank\" href=https://colab.research.google.com/notebooks/data_table.ipynb>data table notebook</a>'\n",
              "            + ' to learn more about interactive tables.';\n",
              "          element.innerHTML = '';\n",
              "          dataTable['output_type'] = 'display_data';\n",
              "          await google.colab.output.renderOutput(dataTable, element);\n",
              "          const docLink = document.createElement('div');\n",
              "          docLink.innerHTML = docLinkHtml;\n",
              "          element.appendChild(docLink);\n",
              "        }\n",
              "      </script>\n",
              "    </div>\n",
              "  </div>\n",
              "  "
            ]
          },
          "metadata": {},
          "execution_count": 40
        }
      ]
    }
  ],
  "metadata": {
    "colab": {
      "name": "WebScraping.ipynb",
      "provenance": [],
      "authorship_tag": "ABX9TyNMoBWcQyCkIUZkJJv3H68m",
      "include_colab_link": true
    },
    "kernelspec": {
      "display_name": "Python 3",
      "name": "python3"
    },
    "language_info": {
      "name": "python"
    }
  },
  "nbformat": 4,
  "nbformat_minor": 0
}