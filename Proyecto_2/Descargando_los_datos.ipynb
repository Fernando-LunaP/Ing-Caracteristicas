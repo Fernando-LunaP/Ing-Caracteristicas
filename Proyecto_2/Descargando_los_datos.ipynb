{
  "cells": [
    {
      "cell_type": "markdown",
      "metadata": {
        "id": "szRpG9BDFWNJ"
      },
      "source": [
        "<center>\n",
        "<p><img src=\"https://mcd.unison.mx/wp-content/themes/awaken/img/logo_mcd.png\" width=\"150\">\n",
        "</p>\n",
        "\n",
        "\n",
        "\n",
        "<h1>Curso Ingeniería de Características</h1>\n",
        "\n",
        "<h3>Proyecto 2: Descargando los datos</h3>\n",
        "\n",
        "<p> Alumno </p>\n",
        "<p> Fernando Luna Ponce </p>\n",
        "\n",
        "</center>"
      ]
    },
    {
      "cell_type": "markdown",
      "metadata": {
        "id": "a-POTvSgml9a"
      },
      "source": [
        "Para esta parte primero estaremos descargando los datos que nos interesa, esto es las defunciones por diabetes que ocurren en el Estado de Sonora. Para esto estaremos descargando la información sobre las muertes en cada estado de Mexico"
      ]
    },
    {
      "cell_type": "markdown",
      "metadata": {
        "id": "ihlb3meimqIb"
      },
      "source": [
        "Se quiere analizar analizar la distribución de las defunciones por diabetes en el Estado de Sonora, pero hay pocas fuentes en las que se puede encontrar información. Se encontraron dos fuentes que son:  \n",
        "1. ~~Página de la [DGIS](http://www.dgis.salud.gob.mx/contenidos/basesdedatos/da_defunciones_gobmx.html): desde esta página se puede descargar la información de las muertes para diferentes años, esta viene en formato zip, por lo que hay que realizar una descompresión para obtener el archivo que nos interesa en formato csv.~~ En revisión posterior no se pudo realizar la conexión con la página por lo que se descargará de otra dirección el mismo dataset. [Aquí](https://www.inegi.org.mx/programas/mortalidad/#Datos_abiertos)\n",
        "\n",
        "2. [Cuéntame de México](https://cuentame.inegi.org.mx/monografias/informacion/son/poblacion/default.aspx?tema=me&e=26): esta página contiene la información que nos interesa sobre el número de habitantes por municipio en Sonora en el 2020, si bien se podrían encontrar estos datos en otro lugar y con un formato más manejable, se decidió usar la información de esta página  para mostrar además como es el método de web scraping para extraer los datos de una tabla en formato html y almacenar estos en un dataframe."
      ]
    },
    {
      "cell_type": "markdown",
      "metadata": {
        "id": "HKCrpovgnYWY"
      },
      "source": [
        "1. Antes de empezar vamos a cargar la librerías necesarias para la descarga y limpieza de los datos"
      ]
    },
    {
      "cell_type": "code",
      "execution_count": 58,
      "metadata": {
        "id": "nCdf2_x5r7L8"
      },
      "outputs": [],
      "source": [
        "import os  # Para manejo de archivos y directorios\n",
        "import urllib.request # Una forma estandard de descargar datos\n",
        "# import requests # Otra forma no de las librerías de uso comun\n",
        "\n",
        "import datetime # Fecha de descarga\n",
        "import pandas as pd # Solo para ver el archivo descargado\n",
        "import zipfile # Descompresión de archivos\n",
        "import re # Expresiones regulares\n",
        "import csv # Para abrir csv\n",
        "import zipfile # Descompresión de archivos\n",
        "\n",
        "from bs4 import BeautifulSoup\n",
        "import requests\n",
        "\n",
        "import numpy as np"
      ]
    },
    {
      "cell_type": "markdown",
      "metadata": {
        "id": "0vNbNGhmv5ce"
      },
      "source": [
        "A continuación vamos a crear algunas funciones que nos ayudarán a mantener un código más legible además de simplificar las tareas en proyectos posteriores"
      ]
    },
    {
      "cell_type": "code",
      "execution_count": 59,
      "metadata": {
        "id": "QaD55C8o-Ai6"
      },
      "outputs": [],
      "source": [
        "def descargadatos(url, archivo, subdir): #Para descargar un archivo\n",
        "  if not os.path.exists(archivo):\n",
        "    if not os.path.exists(subdir):\n",
        "        os.makedirs(subdir)\n",
        "    # Empezamos a descargar el primer archivo\n",
        "    urllib.request.urlretrieve(url, subdir + archivo)\n",
        "\n",
        "def descomprimeZip(subdir, archivo): # Descomprime el csv y le cambia el nombre\n",
        "    with zipfile.ZipFile(subdir + archivo, \"r\") as zip_ref:\n",
        "        nombre = zip_ref.namelist()\n",
        "        zip_ref.extractall(subdir)"
      ]
    },
    {
      "cell_type": "markdown",
      "metadata": {
        "id": "SqPjJWNtIX49"
      },
      "source": [
        "# Descargando los datos"
      ]
    },
    {
      "cell_type": "markdown",
      "metadata": {
        "id": "kBDpVjl-v2s0"
      },
      "source": [
        "**Descarga datos fuente defunciones:**"
      ]
    },
    {
      "cell_type": "markdown",
      "metadata": {
        "id": "U2icrCCFXCuw"
      },
      "source": [
        "Descargamos los zip y le cambiamos el nombre, luego extraemos las carpetas que contiene y le cambiamos el nombre al csv que nos interesa."
      ]
    },
    {
      "cell_type": "code",
      "execution_count": 60,
      "metadata": {
        "id": "FLaXthmCo0Qx"
      },
      "outputs": [],
      "source": [
        "url_2017 = \"https://www.inegi.org.mx/contenidos/programas/mortalidad/datosabiertos/defunciones/2017/conjunto_de_datos_defunciones_generales_2017_csv.zip\"\n",
        "url_2018 = \"https://www.inegi.org.mx/contenidos/programas/mortalidad/datosabiertos/defunciones/2018/conjunto_de_datos_defunciones_registradas_2018_csv.zip\"\n",
        "url_2019 = \"https://www.inegi.org.mx/contenidos/programas/mortalidad/datosabiertos/defunciones/2019/conjunto_de_datos_defunciones_registradas_2019_csv.zip\"\n",
        "url_2020 = \"https://www.inegi.org.mx/contenidos/programas/mortalidad/datosabiertos/defunciones/2020/conjunto_de_datos_defunciones_registradas_2020_csv.zip\"\n",
        "url_2021 = \"https://www.inegi.org.mx/contenidos/programas/mortalidad/datosabiertos/defunciones/2021/conjunto_de_datos_defunciones_registradas_2021_csv.zip\""
      ]
    },
    {
      "cell_type": "code",
      "execution_count": 71,
      "metadata": {},
      "outputs": [],
      "source": [
        "ruta_archivos = \"./data/Archivos/\"\n",
        "if not os.path.exists(ruta_archivos):\n",
        "    os.makedirs(ruta_archivos)"
      ]
    },
    {
      "cell_type": "code",
      "execution_count": 72,
      "metadata": {},
      "outputs": [],
      "source": [
        "archivoZIP = \"Defunciones_\" + str(2017) + \".zip\"\n",
        "archivoCSV = \"Defunciones_\" + str(2017) + \".csv\"\n",
        "subdir = \"./data/fuente_1/\"\n",
        "\n",
        "descargadatos(url_2017, archivoZIP, subdir)\n",
        "descomprimeZip(subdir, archivoZIP)\n",
        "os.rename(subdir + 'conjunto_de_datos/conjunto_de_datos_defunciones_generales_2017.csv', ruta_archivos + archivoCSV)"
      ]
    },
    {
      "cell_type": "code",
      "execution_count": 73,
      "metadata": {},
      "outputs": [],
      "source": [
        "archivoZIP = \"Defunciones_\" + str(2018) + \".zip\"\n",
        "archivoCSV = \"Defunciones_\" + str(2018) + \".csv\"\n",
        "subdir = \"./data/fuente_2/\"\n",
        "\n",
        "descargadatos(url_2018, archivoZIP, subdir)\n",
        "descomprimeZip(subdir, archivoZIP)\n",
        "os.rename(subdir + 'conjunto_de_datos/conjunto_de_datos_defunciones_registradas_2018.csv', ruta_archivos + archivoCSV)"
      ]
    },
    {
      "cell_type": "code",
      "execution_count": 74,
      "metadata": {},
      "outputs": [],
      "source": [
        "archivoZIP = \"Defunciones_\" + str(2019) + \".zip\"\n",
        "archivoCSV = \"Defunciones_\" + str(2019) + \".csv\"\n",
        "subdir = \"./data/fuente_3/\"\n",
        "\n",
        "descargadatos(url_2019, archivoZIP, subdir)\n",
        "descomprimeZip(subdir, archivoZIP)\n",
        "os.rename(subdir + 'conjunto_de_datos/conjunto_de_datos_defunciones_registradas_2019.csv', ruta_archivos + archivoCSV)"
      ]
    },
    {
      "cell_type": "code",
      "execution_count": 76,
      "metadata": {},
      "outputs": [],
      "source": [
        "archivoZIP = \"Defunciones_\" + str(2020) + \".zip\"\n",
        "archivoCSV = \"Defunciones_\" + str(2020) + \".csv\"\n",
        "subdir = \"./data/fuente_4/\"\n",
        "\n",
        "descargadatos(url_2020, archivoZIP, subdir)\n",
        "descomprimeZip(subdir, archivoZIP)\n",
        "os.rename(subdir + 'conjunto_de_datos/conjunto_de_datos_defunciones_registrados_2020.CSV', ruta_archivos + archivoCSV)"
      ]
    },
    {
      "cell_type": "code",
      "execution_count": 77,
      "metadata": {},
      "outputs": [],
      "source": [
        "archivoZIP = \"Defunciones_\" + str(2021) + \".zip\"\n",
        "archivoCSV = \"Defunciones_\" + str(2021) + \".csv\"\n",
        "subdir = \"./data/fuente_5/\"\n",
        "\n",
        "descargadatos(url_2021, archivoZIP, subdir)\n",
        "descomprimeZip(subdir, archivoZIP)\n",
        "os.rename(subdir + 'conjunto_de_datos/conjunto_de_datos_defunciones_registradas_2021.csv', ruta_archivos + archivoCSV)"
      ]
    },
    {
      "cell_type": "markdown",
      "metadata": {
        "id": "tmO-iyD1Xulb"
      },
      "source": [
        "Guardamos los archivos en dataframes de pandas y verificamos su longitud"
      ]
    },
    {
      "cell_type": "code",
      "execution_count": 79,
      "metadata": {
        "colab": {
          "base_uri": "https://localhost:8080/",
          "height": 299
        },
        "id": "pyZqzwscWz8K",
        "outputId": "a88608cf-8c5c-40b7-adda-a96e7a897bac"
      },
      "outputs": [
        {
          "name": "stdout",
          "output_type": "stream",
          "text": [
            "Tamaño archivo 2017:  (703047, 59)\n",
            "Tamaño archivo 2018:  (722611, 62)\n",
            "Tamaño archivo 2019:  (747784, 59)\n",
            "Tamaño archivo 2020:  (1086743, 59)\n",
            "Tamaño archivo 2021:  (1122249, 59)\n"
          ]
        }
      ],
      "source": [
        "rawDataDefunciones2017 =  pd.read_csv(ruta_archivos + \"defunciones_2017.csv\")\n",
        "print(\"Tamaño archivo 2017: \", rawDataDefunciones2017.shape)\n",
        "\n",
        "rawDataDefunciones2018 =  pd.read_csv(ruta_archivos + \"defunciones_2018.csv\")\n",
        "print(\"Tamaño archivo 2018: \", rawDataDefunciones2018.shape)\n",
        "\n",
        "rawDataDefunciones2019 =  pd.read_csv(ruta_archivos + \"defunciones_2019.csv\")\n",
        "print(\"Tamaño archivo 2019: \", rawDataDefunciones2019.shape)\n",
        "\n",
        "rawDataDefunciones2020 =  pd.read_csv(ruta_archivos + \"defunciones_2020.csv\")\n",
        "print(\"Tamaño archivo 2020: \", rawDataDefunciones2020.shape)\n",
        "\n",
        "rawDataDefunciones2021 =  pd.read_csv(ruta_archivos + \"defunciones_2021.csv\")\n",
        "print(\"Tamaño archivo 2021: \", rawDataDefunciones2021.shape)"
      ]
    },
    {
      "cell_type": "markdown",
      "metadata": {
        "id": "t7rqXSdIZYl_"
      },
      "source": [
        "**Descarga datos municipios y habitantes Sonora 2020:**"
      ]
    },
    {
      "cell_type": "markdown",
      "metadata": {
        "id": "ZvMBjgJ6aDSS"
      },
      "source": [
        "Nos interesó una tabla que contiene la información del número de habitantes en Sonora, pero no hay un archivo descargable, por lo que tenemos que hacer web scraping para poder descargar esa información."
      ]
    },
    {
      "cell_type": "code",
      "execution_count": 34,
      "metadata": {
        "id": "4xGQq9ddZ7wW"
      },
      "outputs": [],
      "source": [
        "url_cuentame = \"https://cuentame.inegi.org.mx/monografias/informacion/son/poblacion/default.aspx?tema=me&e=26\"\n",
        "page = requests.get(url_cuentame) # Realizamos la petición a la url solicitada\n",
        "soup = BeautifulSoup(page.content, 'html.parser') # Le damos formato html a la información\n",
        "\n",
        "tabla = soup.find('table', id=\"keywords2\")"
      ]
    },
    {
      "cell_type": "code",
      "execution_count": 35,
      "metadata": {
        "id": "WWL6yv-jatA0"
      },
      "outputs": [],
      "source": [
        "# Generamos listas para almacenar toda la información que deseamos almacenar\n",
        "listaCdMun = list()\n",
        "listaNbMun = list()\n",
        "listaCantidad = list()"
      ]
    },
    {
      "cell_type": "code",
      "execution_count": 36,
      "metadata": {
        "id": "-p0wg3Yia2Hy"
      },
      "outputs": [],
      "source": [
        "filas = tabla.findAll('tr')\n",
        "for i in range(len(filas)):\n",
        "  if i > 0:\n",
        "    columnas = filas[i].findAll('td')\n",
        "    cd_municipio = columnas[0].string\n",
        "    listaCdMun.append(cd_municipio)\n",
        "    nb_municipio = columnas[1].string.replace('    ', ' ')\n",
        "    listaNbMun.append(nb_municipio)\n",
        "    nu_habitantes = columnas[2].string.replace(',', '')\n",
        "    listaCantidad.append(nu_habitantes)"
      ]
    },
    {
      "cell_type": "markdown",
      "metadata": {
        "id": "2wZJQEuubDhC"
      },
      "source": [
        "Generamos nuestro dataframe con toda la información que obtuvimos"
      ]
    },
    {
      "cell_type": "code",
      "execution_count": 37,
      "metadata": {
        "colab": {
          "base_uri": "https://localhost:8080/",
          "height": 206
        },
        "id": "A5E2yxu3a_3x",
        "outputId": "af6dae5e-1317-41f5-b327-9272a721c303"
      },
      "outputs": [
        {
          "data": {
            "text/html": [
              "<div>\n",
              "<style scoped>\n",
              "    .dataframe tbody tr th:only-of-type {\n",
              "        vertical-align: middle;\n",
              "    }\n",
              "\n",
              "    .dataframe tbody tr th {\n",
              "        vertical-align: top;\n",
              "    }\n",
              "\n",
              "    .dataframe thead th {\n",
              "        text-align: right;\n",
              "    }\n",
              "</style>\n",
              "<table border=\"1\" class=\"dataframe\">\n",
              "  <thead>\n",
              "    <tr style=\"text-align: right;\">\n",
              "      <th></th>\n",
              "      <th>Codigo_Municipio</th>\n",
              "      <th>Nombre_Municipio</th>\n",
              "      <th>Cantidad_Habitantes</th>\n",
              "    </tr>\n",
              "  </thead>\n",
              "  <tbody>\n",
              "    <tr>\n",
              "      <th>0</th>\n",
              "      <td>001</td>\n",
              "      <td>Aconchi</td>\n",
              "      <td>2563</td>\n",
              "    </tr>\n",
              "    <tr>\n",
              "      <th>1</th>\n",
              "      <td>002</td>\n",
              "      <td>Agua Prieta</td>\n",
              "      <td>91929</td>\n",
              "    </tr>\n",
              "    <tr>\n",
              "      <th>2</th>\n",
              "      <td>003</td>\n",
              "      <td>Alamos</td>\n",
              "      <td>24976</td>\n",
              "    </tr>\n",
              "    <tr>\n",
              "      <th>3</th>\n",
              "      <td>004</td>\n",
              "      <td>Altar</td>\n",
              "      <td>9492</td>\n",
              "    </tr>\n",
              "    <tr>\n",
              "      <th>4</th>\n",
              "      <td>005</td>\n",
              "      <td>Arivechi</td>\n",
              "      <td>1177</td>\n",
              "    </tr>\n",
              "  </tbody>\n",
              "</table>\n",
              "</div>"
            ],
            "text/plain": [
              "  Codigo_Municipio Nombre_Municipio Cantidad_Habitantes\n",
              "0              001          Aconchi                2563\n",
              "1              002      Agua Prieta               91929\n",
              "2              003           Alamos               24976\n",
              "3              004            Altar                9492\n",
              "4              005         Arivechi                1177"
            ]
          },
          "execution_count": 37,
          "metadata": {},
          "output_type": "execute_result"
        }
      ],
      "source": [
        "rawDataHabitantes = pd.DataFrame({\"Codigo_Municipio\":listaCdMun,\n",
        "                         \"Nombre_Municipio\":listaNbMun,\n",
        "                         \"Cantidad_Habitantes\":listaCantidad})\n",
        "rawDataHabitantes.head()"
      ]
    },
    {
      "cell_type": "markdown",
      "metadata": {
        "id": "qObRWpkwDkz_"
      },
      "source": [
        "# Obtener la información de las defunciones por diabetes del Estado de Sonora"
      ]
    },
    {
      "cell_type": "markdown",
      "metadata": {
        "id": "okXMsYqdIqZx"
      },
      "source": [
        "**Datos defunciones**"
      ]
    },
    {
      "cell_type": "markdown",
      "metadata": {
        "id": "6LL3yGy9I9-g"
      },
      "source": [
        "Tenemos que generar un dataframe y quedarnos con las columnas que nos interesen, tenemos que eliminar las columnas que no nos interesen"
      ]
    },
    {
      "cell_type": "code",
      "execution_count": 166,
      "metadata": {},
      "outputs": [
        {
          "data": {
            "text/html": [
              "<div>\n",
              "<style scoped>\n",
              "    .dataframe tbody tr th:only-of-type {\n",
              "        vertical-align: middle;\n",
              "    }\n",
              "\n",
              "    .dataframe tbody tr th {\n",
              "        vertical-align: top;\n",
              "    }\n",
              "\n",
              "    .dataframe thead th {\n",
              "        text-align: right;\n",
              "    }\n",
              "</style>\n",
              "<table border=\"1\" class=\"dataframe\">\n",
              "  <thead>\n",
              "    <tr style=\"text-align: right;\">\n",
              "      <th></th>\n",
              "      <th>NOMBRE_CAMPO</th>\n",
              "      <th>LONGITUD</th>\n",
              "      <th>TIPO</th>\n",
              "      <th>NEMÓNICO</th>\n",
              "      <th>CATÁLOGO</th>\n",
              "      <th>RANGO_CLAVES</th>\n",
              "    </tr>\n",
              "  </thead>\n",
              "  <tbody>\n",
              "    <tr>\n",
              "      <th>0</th>\n",
              "      <td>Entidad de registro</td>\n",
              "      <td>2</td>\n",
              "      <td>C</td>\n",
              "      <td>ent_regis</td>\n",
              "      <td>entidad_municipio_localidad_2018</td>\n",
              "      <td>01..32\\t</td>\n",
              "    </tr>\n",
              "    <tr>\n",
              "      <th>1</th>\n",
              "      <td>Municipio o alcaldía de registro</td>\n",
              "      <td>3</td>\n",
              "      <td>C</td>\n",
              "      <td>mun_regis</td>\n",
              "      <td>entidad_municipio_localidad_2018</td>\n",
              "      <td>001..570                                      ...</td>\n",
              "    </tr>\n",
              "    <tr>\n",
              "      <th>2</th>\n",
              "      <td>Entidad de residencia habitual del (la) fallec...</td>\n",
              "      <td>2</td>\n",
              "      <td>C</td>\n",
              "      <td>ent_resid</td>\n",
              "      <td>entidad_municipio_localidad_2018</td>\n",
              "      <td>01..35,99                                     ...</td>\n",
              "    </tr>\n",
              "    <tr>\n",
              "      <th>3</th>\n",
              "      <td>Municipio o alcaldía de residencia habitual de...</td>\n",
              "      <td>3</td>\n",
              "      <td>C</td>\n",
              "      <td>mun_resid</td>\n",
              "      <td>entidad_municipio_localidad_2018</td>\n",
              "      <td>001..570,999                                  ...</td>\n",
              "    </tr>\n",
              "    <tr>\n",
              "      <th>4</th>\n",
              "      <td>Tamaño de localidad de residencia habitual del...</td>\n",
              "      <td>2</td>\n",
              "      <td>N</td>\n",
              "      <td>tloc_resid</td>\n",
              "      <td>tamaño_localidad</td>\n",
              "      <td>01..17,99                                     ...</td>\n",
              "    </tr>\n",
              "  </tbody>\n",
              "</table>\n",
              "</div>"
            ],
            "text/plain": [
              "                                        NOMBRE_CAMPO  LONGITUD TIPO  \\\n",
              "0                                Entidad de registro         2    C   \n",
              "1                   Municipio o alcaldía de registro         3    C   \n",
              "2  Entidad de residencia habitual del (la) fallec...         2    C   \n",
              "3  Municipio o alcaldía de residencia habitual de...         3    C   \n",
              "4  Tamaño de localidad de residencia habitual del...         2    N   \n",
              "\n",
              "     NEMÓNICO                          CATÁLOGO  \\\n",
              "0   ent_regis  entidad_municipio_localidad_2018   \n",
              "1   mun_regis  entidad_municipio_localidad_2018   \n",
              "2   ent_resid  entidad_municipio_localidad_2018   \n",
              "3   mun_resid  entidad_municipio_localidad_2018   \n",
              "4  tloc_resid                  tamaño_localidad   \n",
              "\n",
              "  RANGO_CLAVES                                                                \n",
              "0                                           01..32\\t                          \n",
              "1  001..570                                      ...                          \n",
              "2  01..35,99                                     ...                          \n",
              "3  001..570,999                                  ...                          \n",
              "4  01..17,99                                     ...                          "
            ]
          },
          "execution_count": 166,
          "metadata": {},
          "output_type": "execute_result"
        }
      ],
      "source": [
        "dicRawDefunciones2018.head()"
      ]
    },
    {
      "cell_type": "markdown",
      "metadata": {
        "id": "VUpqH30FJ6yf"
      },
      "source": [
        "Después de observar la composición de estos dataframes vemos que tenemos que seguir los siguientes pasos para obtener la información que nos interesa:"
      ]
    },
    {
      "cell_type": "markdown",
      "metadata": {
        "id": "JC7JNgYvXWqp"
      },
      "source": [
        "1. Filtrar por Estado de residencia habitual del fallecido, ya que este campo es el que nos indica donde radicaba, en este caso solo nos interesan las correspondientes al Estado de Sonora (26)"
      ]
    },
    {
      "cell_type": "code",
      "execution_count": 86,
      "metadata": {
        "colab": {
          "base_uri": "https://localhost:8080/",
          "height": 299
        },
        "id": "QYnLC_fIU3dI",
        "outputId": "4f2635ae-c3aa-416f-a749-df45ba55d038"
      },
      "outputs": [
        {
          "name": "stdout",
          "output_type": "stream",
          "text": [
            "(16729, 59)\n",
            "(17644, 62)\n",
            "(18485, 59)\n",
            "(27814, 59)\n",
            "(25273, 59)\n"
          ]
        }
      ],
      "source": [
        "rawDataDefunciones2017 = rawDataDefunciones2017[rawDataDefunciones2017[\"ent_resid\"] == 26]\n",
        "print(rawDataDefunciones2017.shape)\n",
        "\n",
        "rawDataDefunciones2018 = rawDataDefunciones2018[rawDataDefunciones2018[\"ent_resid\"] == 26]\n",
        "print(rawDataDefunciones2018.shape)\n",
        "\n",
        "rawDataDefunciones2019 = rawDataDefunciones2019[rawDataDefunciones2019[\"ent_resid\"] == 26]\n",
        "print(rawDataDefunciones2019.shape)\n",
        "\n",
        "rawDataDefunciones2020 = rawDataDefunciones2020[rawDataDefunciones2020[\"ent_resid\"] == 26]\n",
        "print(rawDataDefunciones2020.shape)\n",
        "\n",
        "rawDataDefunciones2021 = rawDataDefunciones2021[rawDataDefunciones2021[\"ent_resid\"] == 26]\n",
        "print(rawDataDefunciones2021.shape)"
      ]
    },
    {
      "cell_type": "markdown",
      "metadata": {
        "id": "w9ZMf83hZcnJ"
      },
      "source": [
        "2. Filtrar solo los que tengan causa de defunción por diabetes, para esto tenemos abrimos otro excel con la lista de nuestros valores para la columna de causa de defunción. Vamos a extraer estos valores y con estos filtraremos nuestro dataframe."
      ]
    },
    {
      "cell_type": "code",
      "execution_count": 95,
      "metadata": {
        "colab": {
          "base_uri": "https://localhost:8080/",
          "height": 206
        },
        "id": "ZQ-4g0UMfOwY",
        "outputId": "67224e8f-0dc2-46df-c593-033ec49d4019"
      },
      "outputs": [],
      "source": [
        "causaDef2017 = pd.read_csv('./data/fuente_1/catalogos/decatcausa.csv', encoding='latin-1')\n",
        "causaDiabetes2017 = causaDef2017.query('DESCRIP.str.contains(\"Diabetes\")', engine='python')\n",
        "\n",
        "causaDef2018 = pd.read_csv('./data/fuente_2/catalogos/causa_defuncion.csv', encoding='latin-1')\n",
        "causaDiabetes2018 = causaDef2018.query('DESCRIP.str.contains(\"Diabetes\")', engine='python')\n",
        "\n",
        "causaDef2019 = pd.read_csv('./data/fuente_3/catalogos/causa_defuncion.csv', encoding='latin-1')\n",
        "causaDiabetes2019 = causaDef2019.query('descrip.str.contains(\"Diabetes\")', engine='python')\n",
        "\n",
        "causaDef2020 = pd.read_csv('./data/fuente_4/catalogos/causa_defuncion.csv', encoding='latin-1')\n",
        "causaDiabetes2020 = causaDef2020.query('descrip.str.contains(\"Diabetes\")', engine='python')\n",
        "\n",
        "causaDef2021 = pd.read_csv('./data/fuente_5/catalogos/causa_defuncion.csv', encoding='latin-1')\n",
        "causaDiabetes2021 = causaDef2021.query('descrip.str.contains(\"Diabetes\")', engine='python')"
      ]
    },
    {
      "cell_type": "code",
      "execution_count": 107,
      "metadata": {
        "id": "tlcdXpTHZnym"
      },
      "outputs": [
        {
          "name": "stdout",
          "output_type": "stream",
          "text": [
            "(1828, 59)\n",
            "(1545, 62)\n",
            "(1614, 59)\n",
            "(2268, 59)\n",
            "(1784, 59)\n"
          ]
        }
      ],
      "source": [
        "rawDataDefunciones2017 = rawDataDefunciones2017[rawDataDefunciones2017['causa_def'].isin(causaDiabetes2017[\"CVE\"])]\n",
        "print(rawDataDefunciones2017.shape)\n",
        "\n",
        "rawDataDefunciones2018 = rawDataDefunciones2018[rawDataDefunciones2018['causa_def'].isin(causaDiabetes2018[\"CVE\"])]\n",
        "print(rawDataDefunciones2018.shape)\n",
        "\n",
        "rawDataDefunciones2019 = rawDataDefunciones2019[rawDataDefunciones2019['causa_def'].isin(causaDiabetes2019[\"cve\"])]\n",
        "print(rawDataDefunciones2019.shape)\n",
        "\n",
        "rawDataDefunciones2020 = rawDataDefunciones2020[rawDataDefunciones2020['causa_def'].isin(causaDiabetes2020[\"cve\"])]\n",
        "print(rawDataDefunciones2020.shape)\n",
        "\n",
        "rawDataDefunciones2021 = rawDataDefunciones2021[rawDataDefunciones2021['causa_def'].isin(causaDiabetes2021[\"cve\"])]\n",
        "print(rawDataDefunciones2021.shape)"
      ]
    },
    {
      "cell_type": "markdown",
      "metadata": {},
      "source": [
        "3. Unimos los dataframes, pero para esto primero tenemos que dejar estos con la misma cantidad de columnas:"
      ]
    },
    {
      "cell_type": "code",
      "execution_count": 124,
      "metadata": {},
      "outputs": [
        {
          "name": "stdout",
          "output_type": "stream",
          "text": [
            "(1828, 59)\n",
            "(1545, 59)\n",
            "(1614, 59)\n",
            "(2268, 59)\n"
          ]
        }
      ],
      "source": [
        "columnas = rawDataDefunciones2021.columns\n",
        "rawDataDefunciones2017 = rawDataDefunciones2017[columnas]\n",
        "print(rawDataDefunciones2017.shape)\n",
        "\n",
        "rawDataDefunciones2018 = rawDataDefunciones2018[columnas]\n",
        "print(rawDataDefunciones2018.shape)\n",
        "\n",
        "rawDataDefunciones2019 = rawDataDefunciones2019[columnas]\n",
        "print(rawDataDefunciones2019.shape)\n",
        "\n",
        "rawDataDefunciones2020 = rawDataDefunciones2020[columnas]\n",
        "print(rawDataDefunciones2020.shape)"
      ]
    },
    {
      "cell_type": "code",
      "execution_count": 155,
      "metadata": {},
      "outputs": [
        {
          "data": {
            "text/plain": [
              "(9039, 59)"
            ]
          },
          "execution_count": 155,
          "metadata": {},
          "output_type": "execute_result"
        }
      ],
      "source": [
        "rawDataDefunciones = pd.concat([rawDataDefunciones2017, rawDataDefunciones2018, rawDataDefunciones2019, rawDataDefunciones2020, rawDataDefunciones2021])\n",
        "rawDataDefunciones.shape"
      ]
    },
    {
      "cell_type": "markdown",
      "metadata": {},
      "source": [
        "# Generación del EDA automático con pandas profiling"
      ]
    },
    {
      "cell_type": "code",
      "execution_count": 108,
      "metadata": {},
      "outputs": [],
      "source": [
        "from pandas_profiling import ProfileReport"
      ]
    },
    {
      "cell_type": "code",
      "execution_count": null,
      "metadata": {},
      "outputs": [],
      "source": [
        "#profile = ProfileReport(rawDataDefunciones, title=\"EDA_Defunciones_Diabetes\")\n",
        "#profile.to_file(\"EDA_Defunciones_Diabetes.html\")"
      ]
    },
    {
      "cell_type": "markdown",
      "metadata": {},
      "source": [
        "Generamos una columna de datetime"
      ]
    },
    {
      "cell_type": "code",
      "execution_count": 158,
      "metadata": {},
      "outputs": [
        {
          "name": "stdout",
          "output_type": "stream",
          "text": [
            "(8016, 59)\n"
          ]
        }
      ],
      "source": [
        "rawDataDefunciones = rawDataDefunciones[rawDataDefunciones['dia_regis']<=31]\n",
        "print(rawDataDefunciones.shape)"
      ]
    },
    {
      "cell_type": "code",
      "execution_count": 160,
      "metadata": {},
      "outputs": [
        {
          "data": {
            "text/html": [
              "<div>\n",
              "<style scoped>\n",
              "    .dataframe tbody tr th:only-of-type {\n",
              "        vertical-align: middle;\n",
              "    }\n",
              "\n",
              "    .dataframe tbody tr th {\n",
              "        vertical-align: top;\n",
              "    }\n",
              "\n",
              "    .dataframe thead th {\n",
              "        text-align: right;\n",
              "    }\n",
              "</style>\n",
              "<table border=\"1\" class=\"dataframe\">\n",
              "  <thead>\n",
              "    <tr style=\"text-align: right;\">\n",
              "      <th></th>\n",
              "      <th>ent_regis</th>\n",
              "      <th>mun_regis</th>\n",
              "      <th>ent_resid</th>\n",
              "      <th>mun_resid</th>\n",
              "      <th>tloc_resid</th>\n",
              "      <th>loc_resid</th>\n",
              "      <th>ent_ocurr</th>\n",
              "      <th>mun_ocurr</th>\n",
              "      <th>tloc_ocurr</th>\n",
              "      <th>loc_ocurr</th>\n",
              "      <th>...</th>\n",
              "      <th>maternas</th>\n",
              "      <th>lengua</th>\n",
              "      <th>cond_act</th>\n",
              "      <th>par_agre</th>\n",
              "      <th>ent_ocules</th>\n",
              "      <th>mun_ocules</th>\n",
              "      <th>loc_ocules</th>\n",
              "      <th>razon_m</th>\n",
              "      <th>dis_re_oax</th>\n",
              "      <th>fechaRegistro</th>\n",
              "    </tr>\n",
              "  </thead>\n",
              "  <tbody>\n",
              "    <tr>\n",
              "      <th>6468</th>\n",
              "      <td>2</td>\n",
              "      <td>2</td>\n",
              "      <td>26</td>\n",
              "      <td>55</td>\n",
              "      <td>13</td>\n",
              "      <td>1</td>\n",
              "      <td>2</td>\n",
              "      <td>2</td>\n",
              "      <td>15</td>\n",
              "      <td>1</td>\n",
              "      <td>...</td>\n",
              "      <td>NaN</td>\n",
              "      <td>9</td>\n",
              "      <td>9</td>\n",
              "      <td>88</td>\n",
              "      <td>88</td>\n",
              "      <td>888</td>\n",
              "      <td>8888</td>\n",
              "      <td>0</td>\n",
              "      <td>999</td>\n",
              "      <td>2017-02-24</td>\n",
              "    </tr>\n",
              "    <tr>\n",
              "      <th>6489</th>\n",
              "      <td>2</td>\n",
              "      <td>2</td>\n",
              "      <td>26</td>\n",
              "      <td>55</td>\n",
              "      <td>13</td>\n",
              "      <td>1</td>\n",
              "      <td>2</td>\n",
              "      <td>2</td>\n",
              "      <td>15</td>\n",
              "      <td>1</td>\n",
              "      <td>...</td>\n",
              "      <td>NaN</td>\n",
              "      <td>9</td>\n",
              "      <td>1</td>\n",
              "      <td>88</td>\n",
              "      <td>88</td>\n",
              "      <td>888</td>\n",
              "      <td>8888</td>\n",
              "      <td>0</td>\n",
              "      <td>999</td>\n",
              "      <td>2017-02-20</td>\n",
              "    </tr>\n",
              "    <tr>\n",
              "      <th>6612</th>\n",
              "      <td>2</td>\n",
              "      <td>2</td>\n",
              "      <td>26</td>\n",
              "      <td>55</td>\n",
              "      <td>13</td>\n",
              "      <td>1</td>\n",
              "      <td>2</td>\n",
              "      <td>2</td>\n",
              "      <td>15</td>\n",
              "      <td>1</td>\n",
              "      <td>...</td>\n",
              "      <td>NaN</td>\n",
              "      <td>9</td>\n",
              "      <td>1</td>\n",
              "      <td>88</td>\n",
              "      <td>88</td>\n",
              "      <td>888</td>\n",
              "      <td>8888</td>\n",
              "      <td>0</td>\n",
              "      <td>999</td>\n",
              "      <td>2017-01-20</td>\n",
              "    </tr>\n",
              "    <tr>\n",
              "      <th>8834</th>\n",
              "      <td>2</td>\n",
              "      <td>2</td>\n",
              "      <td>26</td>\n",
              "      <td>55</td>\n",
              "      <td>13</td>\n",
              "      <td>1</td>\n",
              "      <td>2</td>\n",
              "      <td>2</td>\n",
              "      <td>15</td>\n",
              "      <td>1</td>\n",
              "      <td>...</td>\n",
              "      <td>NaN</td>\n",
              "      <td>9</td>\n",
              "      <td>2</td>\n",
              "      <td>88</td>\n",
              "      <td>88</td>\n",
              "      <td>888</td>\n",
              "      <td>8888</td>\n",
              "      <td>0</td>\n",
              "      <td>999</td>\n",
              "      <td>2017-01-09</td>\n",
              "    </tr>\n",
              "    <tr>\n",
              "      <th>9278</th>\n",
              "      <td>2</td>\n",
              "      <td>2</td>\n",
              "      <td>26</td>\n",
              "      <td>55</td>\n",
              "      <td>13</td>\n",
              "      <td>1</td>\n",
              "      <td>2</td>\n",
              "      <td>2</td>\n",
              "      <td>15</td>\n",
              "      <td>1</td>\n",
              "      <td>...</td>\n",
              "      <td>NaN</td>\n",
              "      <td>1</td>\n",
              "      <td>2</td>\n",
              "      <td>88</td>\n",
              "      <td>88</td>\n",
              "      <td>888</td>\n",
              "      <td>8888</td>\n",
              "      <td>0</td>\n",
              "      <td>999</td>\n",
              "      <td>2017-02-11</td>\n",
              "    </tr>\n",
              "  </tbody>\n",
              "</table>\n",
              "<p>5 rows × 60 columns</p>\n",
              "</div>"
            ],
            "text/plain": [
              "      ent_regis  mun_regis  ent_resid  mun_resid  tloc_resid  loc_resid  \\\n",
              "6468          2          2         26         55          13          1   \n",
              "6489          2          2         26         55          13          1   \n",
              "6612          2          2         26         55          13          1   \n",
              "8834          2          2         26         55          13          1   \n",
              "9278          2          2         26         55          13          1   \n",
              "\n",
              "      ent_ocurr  mun_ocurr  tloc_ocurr  loc_ocurr  ... maternas lengua  \\\n",
              "6468          2          2          15          1  ...      NaN      9   \n",
              "6489          2          2          15          1  ...      NaN      9   \n",
              "6612          2          2          15          1  ...      NaN      9   \n",
              "8834          2          2          15          1  ...      NaN      9   \n",
              "9278          2          2          15          1  ...      NaN      1   \n",
              "\n",
              "      cond_act  par_agre  ent_ocules  mun_ocules  loc_ocules  razon_m  \\\n",
              "6468         9        88          88         888        8888        0   \n",
              "6489         1        88          88         888        8888        0   \n",
              "6612         1        88          88         888        8888        0   \n",
              "8834         2        88          88         888        8888        0   \n",
              "9278         2        88          88         888        8888        0   \n",
              "\n",
              "      dis_re_oax  fechaRegistro  \n",
              "6468         999     2017-02-24  \n",
              "6489         999     2017-02-20  \n",
              "6612         999     2017-01-20  \n",
              "8834         999     2017-01-09  \n",
              "9278         999     2017-02-11  \n",
              "\n",
              "[5 rows x 60 columns]"
            ]
          },
          "execution_count": 160,
          "metadata": {},
          "output_type": "execute_result"
        }
      ],
      "source": [
        "rawDataDefunciones['fechaRegistro'] = rawDataDefunciones['anio_regis'].astype(str) + rawDataDefunciones['mes_regis'].apply(lambda x: '{0:0>2}'.format(x)) + rawDataDefunciones['dia_regis'].apply(lambda x: '{0:0>2}'.format(x))\n",
        "rawDataDefunciones['fechaRegistro'] = pd.to_datetime(rawDataDefunciones['fechaRegistro'])\n",
        "rawDataDefunciones.head()\n"
      ]
    },
    {
      "cell_type": "code",
      "execution_count": 162,
      "metadata": {
        "colab": {
          "base_uri": "https://localhost:8080/",
          "height": 206
        },
        "id": "2y4tQNehnAgD",
        "outputId": "d54a2844-3965-4d15-88c1-e2d884ebe09a"
      },
      "outputs": [
        {
          "data": {
            "text/html": [
              "<div>\n",
              "<style scoped>\n",
              "    .dataframe tbody tr th:only-of-type {\n",
              "        vertical-align: middle;\n",
              "    }\n",
              "\n",
              "    .dataframe tbody tr th {\n",
              "        vertical-align: top;\n",
              "    }\n",
              "\n",
              "    .dataframe thead th {\n",
              "        text-align: right;\n",
              "    }\n",
              "</style>\n",
              "<table border=\"1\" class=\"dataframe\">\n",
              "  <thead>\n",
              "    <tr style=\"text-align: right;\">\n",
              "      <th></th>\n",
              "      <th>mun_resid</th>\n",
              "      <th>fechaRegistro</th>\n",
              "      <th>tloc_resid</th>\n",
              "      <th>ocupacion</th>\n",
              "      <th>sexo</th>\n",
              "      <th>edad</th>\n",
              "      <th>asist_medi</th>\n",
              "      <th>sitio_ocur</th>\n",
              "      <th>lengua</th>\n",
              "    </tr>\n",
              "  </thead>\n",
              "  <tbody>\n",
              "    <tr>\n",
              "      <th>6468</th>\n",
              "      <td>55</td>\n",
              "      <td>2017-02-24</td>\n",
              "      <td>13</td>\n",
              "      <td>99</td>\n",
              "      <td>1</td>\n",
              "      <td>4072</td>\n",
              "      <td>1</td>\n",
              "      <td>4</td>\n",
              "      <td>9</td>\n",
              "    </tr>\n",
              "    <tr>\n",
              "      <th>6489</th>\n",
              "      <td>55</td>\n",
              "      <td>2017-02-20</td>\n",
              "      <td>13</td>\n",
              "      <td>8</td>\n",
              "      <td>1</td>\n",
              "      <td>4028</td>\n",
              "      <td>1</td>\n",
              "      <td>3</td>\n",
              "      <td>9</td>\n",
              "    </tr>\n",
              "    <tr>\n",
              "      <th>6612</th>\n",
              "      <td>55</td>\n",
              "      <td>2017-01-20</td>\n",
              "      <td>13</td>\n",
              "      <td>9</td>\n",
              "      <td>1</td>\n",
              "      <td>4056</td>\n",
              "      <td>1</td>\n",
              "      <td>3</td>\n",
              "      <td>9</td>\n",
              "    </tr>\n",
              "    <tr>\n",
              "      <th>8834</th>\n",
              "      <td>55</td>\n",
              "      <td>2017-01-09</td>\n",
              "      <td>13</td>\n",
              "      <td>11</td>\n",
              "      <td>2</td>\n",
              "      <td>4078</td>\n",
              "      <td>1</td>\n",
              "      <td>9</td>\n",
              "      <td>9</td>\n",
              "    </tr>\n",
              "    <tr>\n",
              "      <th>9278</th>\n",
              "      <td>55</td>\n",
              "      <td>2017-02-11</td>\n",
              "      <td>13</td>\n",
              "      <td>11</td>\n",
              "      <td>2</td>\n",
              "      <td>4071</td>\n",
              "      <td>1</td>\n",
              "      <td>3</td>\n",
              "      <td>1</td>\n",
              "    </tr>\n",
              "  </tbody>\n",
              "</table>\n",
              "</div>"
            ],
            "text/plain": [
              "      mun_resid fechaRegistro  tloc_resid  ocupacion  sexo  edad  asist_medi  \\\n",
              "6468         55    2017-02-24          13         99     1  4072           1   \n",
              "6489         55    2017-02-20          13          8     1  4028           1   \n",
              "6612         55    2017-01-20          13          9     1  4056           1   \n",
              "8834         55    2017-01-09          13         11     2  4078           1   \n",
              "9278         55    2017-02-11          13         11     2  4071           1   \n",
              "\n",
              "      sitio_ocur  lengua  \n",
              "6468           4       9  \n",
              "6489           3       9  \n",
              "6612           3       9  \n",
              "8834           9       9  \n",
              "9278           3       1  "
            ]
          },
          "execution_count": 162,
          "metadata": {},
          "output_type": "execute_result"
        }
      ],
      "source": [
        "rawDataDefunciones = rawDataDefunciones[[\"mun_resid\",\"fechaRegistro\", \"tloc_resid\", \"ocupacion\", \"sexo\", \"edad\", \"asist_medi\", \"sitio_ocur\", \"lengua\"]]\n",
        "rawDataDefunciones.head()"
      ]
    },
    {
      "cell_type": "code",
      "execution_count": 163,
      "metadata": {},
      "outputs": [
        {
          "data": {
            "application/vnd.jupyter.widget-view+json": {
              "model_id": "1e0da9aa5d5e4115b667b2df8cc46044",
              "version_major": 2,
              "version_minor": 0
            },
            "text/plain": [
              "Summarize dataset:   0%|          | 0/5 [00:00<?, ?it/s]"
            ]
          },
          "metadata": {},
          "output_type": "display_data"
        },
        {
          "data": {
            "application/vnd.jupyter.widget-view+json": {
              "model_id": "51f1007ab53a4d08a66c6a4b7d3d023a",
              "version_major": 2,
              "version_minor": 0
            },
            "text/plain": [
              "Generate report structure:   0%|          | 0/1 [00:00<?, ?it/s]"
            ]
          },
          "metadata": {},
          "output_type": "display_data"
        },
        {
          "data": {
            "application/vnd.jupyter.widget-view+json": {
              "model_id": "07d1478edff745118e87bfd8b578c22c",
              "version_major": 2,
              "version_minor": 0
            },
            "text/plain": [
              "Render HTML:   0%|          | 0/1 [00:00<?, ?it/s]"
            ]
          },
          "metadata": {},
          "output_type": "display_data"
        },
        {
          "data": {
            "application/vnd.jupyter.widget-view+json": {
              "model_id": "91fe428bbac44517bb58f7b206f484f1",
              "version_major": 2,
              "version_minor": 0
            },
            "text/plain": [
              "Export report to file:   0%|          | 0/1 [00:00<?, ?it/s]"
            ]
          },
          "metadata": {},
          "output_type": "display_data"
        }
      ],
      "source": [
        "profile = ProfileReport(rawDataDefunciones, title=\"EDA_Defunciones_Diabetes\")\n",
        "profile.to_file(\"EDA_Defunciones_Diabetes.html\")"
      ]
    },
    {
      "cell_type": "markdown",
      "metadata": {
        "id": "Y4uoVVMpeOtx"
      },
      "source": [
        "# Limpieza de los datos"
      ]
    },
    {
      "cell_type": "markdown",
      "metadata": {},
      "source": [
        "Revisamos los tipos de datos"
      ]
    },
    {
      "cell_type": "code",
      "execution_count": 167,
      "metadata": {
        "colab": {
          "base_uri": "https://localhost:8080/"
        },
        "id": "itjjcqAHfmr_",
        "outputId": "2736c899-5a09-4067-aa59-f3bb990deba0"
      },
      "outputs": [
        {
          "name": "stdout",
          "output_type": "stream",
          "text": [
            "<class 'pandas.core.frame.DataFrame'>\n",
            "Int64Index: 8016 entries, 6468 to 950254\n",
            "Data columns (total 9 columns):\n",
            " #   Column         Non-Null Count  Dtype         \n",
            "---  ------         --------------  -----         \n",
            " 0   mun_resid      8016 non-null   int64         \n",
            " 1   fechaRegistro  8016 non-null   datetime64[ns]\n",
            " 2   tloc_resid     8016 non-null   int64         \n",
            " 3   ocupacion      8016 non-null   int64         \n",
            " 4   sexo           8016 non-null   int64         \n",
            " 5   edad           8016 non-null   int64         \n",
            " 6   asist_medi     8016 non-null   int64         \n",
            " 7   sitio_ocur     8016 non-null   int64         \n",
            " 8   lengua         8016 non-null   int64         \n",
            "dtypes: datetime64[ns](1), int64(8)\n",
            "memory usage: 626.2 KB\n"
          ]
        }
      ],
      "source": [
        "rawDataDefunciones.info()"
      ]
    },
    {
      "cell_type": "markdown",
      "metadata": {
        "id": "Fu4i1aFlRr2v"
      },
      "source": [
        "Vamos a generar columnas con las descripciones que corresponden a algunas variables, ya que estas están representadas con números pero realmente son variables categóricas"
      ]
    },
    {
      "cell_type": "code",
      "execution_count": 223,
      "metadata": {},
      "outputs": [],
      "source": [
        "rawDataHabitantes[\"Codigo_Municipio\"] = pd.to_numeric(rawDataHabitantes[\"Codigo_Municipio\"])\n",
        "df_1 = pd.merge(rawDataDefunciones, rawDataHabitantes, how='left', left_on='mun_resid', right_on='Codigo_Municipio')"
      ]
    },
    {
      "cell_type": "code",
      "execution_count": 225,
      "metadata": {},
      "outputs": [],
      "source": [
        "ruta_archivos = \"./data/fuente_5/catalogos/\"\n",
        "tamanio_loc = pd.read_csv(ruta_archivos + 'tamaño_localidad.csv', encoding='latin-1')\n",
        "df_2 = pd.merge(df_1, tamanio_loc, how='left', left_on='tloc_resid', right_on='CVE')\n",
        "df_2.rename(columns={ df_2.columns[13]: \"tam_localidad\" }, inplace = True)\n"
      ]
    },
    {
      "cell_type": "code",
      "execution_count": 228,
      "metadata": {},
      "outputs": [],
      "source": [
        "ruta_archivos = \"./data/fuente_5/catalogos/\"\n",
        "ocupacion = pd.read_csv(ruta_archivos + 'ocupacion.csv', encoding='latin-1')\n",
        "df_3 = pd.merge(df_2, ocupacion, how='left', left_on='ocupacion', right_on='CVE')\n",
        "df_3.rename(columns={ df_3.columns[15]: \"descr_ocupacion\" }, inplace = True)\n"
      ]
    },
    {
      "cell_type": "code",
      "execution_count": 230,
      "metadata": {},
      "outputs": [],
      "source": [
        "ruta_archivos = \"./data/fuente_5/catalogos/\"\n",
        "sexo = pd.read_csv(ruta_archivos + 'sexo.csv', encoding='latin-1')\n",
        "df_4 = pd.merge(df_3, sexo, how='left', left_on='sexo', right_on='CVE')\n",
        "df_4.rename(columns={ df_4.columns[17]: \"descr_sexo\" }, inplace = True)"
      ]
    },
    {
      "cell_type": "code",
      "execution_count": null,
      "metadata": {},
      "outputs": [],
      "source": [
        "ruta_archivos = \"./data/fuente_5/catalogos/\"\n",
        "asist_medi = pd.read_csv(ruta_archivos + 'asistencia_medica.csv', encoding='latin-1')\n",
        "df_5 = pd.merge(df_4, asist_medi, how='left', left_on='asist_medi', right_on='CVE')\n",
        "df_5.rename(columns={ df_5.columns[19]: \"descr_asist_medi\" }, inplace = True)"
      ]
    },
    {
      "cell_type": "code",
      "execution_count": 234,
      "metadata": {},
      "outputs": [],
      "source": [
        "ruta_archivos = \"./data/fuente_5/catalogos/\"\n",
        "sitio_ocur = pd.read_csv(ruta_archivos + 'sitio_ocurrencia.csv', encoding='latin-1')\n",
        "df_6 = pd.merge(df_5, sitio_ocur, how='left', left_on='sitio_ocur', right_on='CVE')\n",
        "df_6.rename(columns={ df_6.columns[21]: \"descr_sitio_ocur\" }, inplace = True)"
      ]
    },
    {
      "cell_type": "code",
      "execution_count": null,
      "metadata": {},
      "outputs": [],
      "source": [
        "ruta_archivos = \"./data/fuente_5/catalogos/\"\n",
        "lengua = pd.read_csv(ruta_archivos + 'lengua_indigena.csv', encoding='latin-1')\n",
        "df_7 = pd.merge(df_6, lengua, how='left', left_on='lengua', right_on='CVE')\n",
        "df_7.rename(columns={ df_7.columns[23]: \"descr_lengua\" }, inplace = True)"
      ]
    },
    {
      "cell_type": "code",
      "execution_count": null,
      "metadata": {},
      "outputs": [],
      "source": [
        "df_8 = df_7[df_7['mun_resid']!=999]\n",
        "df_8.rename(columns={ df_8.columns[12]: \"x\" }, inplace = True)"
      ]
    },
    {
      "cell_type": "code",
      "execution_count": 239,
      "metadata": {},
      "outputs": [
        {
          "data": {
            "text/html": [
              "<div>\n",
              "<style scoped>\n",
              "    .dataframe tbody tr th:only-of-type {\n",
              "        vertical-align: middle;\n",
              "    }\n",
              "\n",
              "    .dataframe tbody tr th {\n",
              "        vertical-align: top;\n",
              "    }\n",
              "\n",
              "    .dataframe thead th {\n",
              "        text-align: right;\n",
              "    }\n",
              "</style>\n",
              "<table border=\"1\" class=\"dataframe\">\n",
              "  <thead>\n",
              "    <tr style=\"text-align: right;\">\n",
              "      <th></th>\n",
              "      <th>mun_resid</th>\n",
              "      <th>fechaRegistro</th>\n",
              "      <th>tloc_resid</th>\n",
              "      <th>ocupacion</th>\n",
              "      <th>sexo</th>\n",
              "      <th>edad</th>\n",
              "      <th>asist_medi</th>\n",
              "      <th>sitio_ocur</th>\n",
              "      <th>lengua</th>\n",
              "      <th>Codigo_Municipio</th>\n",
              "      <th>...</th>\n",
              "      <th>CVE_y</th>\n",
              "      <th>descr_ocupacion</th>\n",
              "      <th>x</th>\n",
              "      <th>descr_sexo</th>\n",
              "      <th>CVE_y</th>\n",
              "      <th>descr_asist_medi</th>\n",
              "      <th>x</th>\n",
              "      <th>descr_sitio_ocur</th>\n",
              "      <th>CVE_y</th>\n",
              "      <th>descr_lengua</th>\n",
              "    </tr>\n",
              "  </thead>\n",
              "  <tbody>\n",
              "    <tr>\n",
              "      <th>0</th>\n",
              "      <td>55</td>\n",
              "      <td>2017-02-24</td>\n",
              "      <td>13</td>\n",
              "      <td>99</td>\n",
              "      <td>1</td>\n",
              "      <td>4072</td>\n",
              "      <td>1</td>\n",
              "      <td>4</td>\n",
              "      <td>9</td>\n",
              "      <td>55.0</td>\n",
              "      <td>...</td>\n",
              "      <td>99</td>\n",
              "      <td>No especificada</td>\n",
              "      <td>1</td>\n",
              "      <td>Hombre</td>\n",
              "      <td>1</td>\n",
              "      <td>Con asistencia médica</td>\n",
              "      <td>4</td>\n",
              "      <td>ISSSTE</td>\n",
              "      <td>9</td>\n",
              "      <td>Se ignora</td>\n",
              "    </tr>\n",
              "    <tr>\n",
              "      <th>1</th>\n",
              "      <td>55</td>\n",
              "      <td>2017-02-20</td>\n",
              "      <td>13</td>\n",
              "      <td>8</td>\n",
              "      <td>1</td>\n",
              "      <td>4028</td>\n",
              "      <td>1</td>\n",
              "      <td>3</td>\n",
              "      <td>9</td>\n",
              "      <td>55.0</td>\n",
              "      <td>...</td>\n",
              "      <td>8</td>\n",
              "      <td>Operadores de maquinaria industrial, ensamblad...</td>\n",
              "      <td>1</td>\n",
              "      <td>Hombre</td>\n",
              "      <td>1</td>\n",
              "      <td>Con asistencia médica</td>\n",
              "      <td>3</td>\n",
              "      <td>IMSS</td>\n",
              "      <td>9</td>\n",
              "      <td>Se ignora</td>\n",
              "    </tr>\n",
              "    <tr>\n",
              "      <th>2</th>\n",
              "      <td>55</td>\n",
              "      <td>2017-01-20</td>\n",
              "      <td>13</td>\n",
              "      <td>9</td>\n",
              "      <td>1</td>\n",
              "      <td>4056</td>\n",
              "      <td>1</td>\n",
              "      <td>3</td>\n",
              "      <td>9</td>\n",
              "      <td>55.0</td>\n",
              "      <td>...</td>\n",
              "      <td>9</td>\n",
              "      <td>Trabajadores en actividades elementales y de a...</td>\n",
              "      <td>1</td>\n",
              "      <td>Hombre</td>\n",
              "      <td>1</td>\n",
              "      <td>Con asistencia médica</td>\n",
              "      <td>3</td>\n",
              "      <td>IMSS</td>\n",
              "      <td>9</td>\n",
              "      <td>Se ignora</td>\n",
              "    </tr>\n",
              "    <tr>\n",
              "      <th>3</th>\n",
              "      <td>55</td>\n",
              "      <td>2017-01-09</td>\n",
              "      <td>13</td>\n",
              "      <td>11</td>\n",
              "      <td>2</td>\n",
              "      <td>4078</td>\n",
              "      <td>1</td>\n",
              "      <td>9</td>\n",
              "      <td>9</td>\n",
              "      <td>55.0</td>\n",
              "      <td>...</td>\n",
              "      <td>11</td>\n",
              "      <td>No trabaja</td>\n",
              "      <td>2</td>\n",
              "      <td>Mujer</td>\n",
              "      <td>1</td>\n",
              "      <td>Con asistencia médica</td>\n",
              "      <td>9</td>\n",
              "      <td>Unidad médica privada</td>\n",
              "      <td>9</td>\n",
              "      <td>Se ignora</td>\n",
              "    </tr>\n",
              "    <tr>\n",
              "      <th>4</th>\n",
              "      <td>55</td>\n",
              "      <td>2017-02-11</td>\n",
              "      <td>13</td>\n",
              "      <td>11</td>\n",
              "      <td>2</td>\n",
              "      <td>4071</td>\n",
              "      <td>1</td>\n",
              "      <td>3</td>\n",
              "      <td>1</td>\n",
              "      <td>55.0</td>\n",
              "      <td>...</td>\n",
              "      <td>11</td>\n",
              "      <td>No trabaja</td>\n",
              "      <td>2</td>\n",
              "      <td>Mujer</td>\n",
              "      <td>1</td>\n",
              "      <td>Con asistencia médica</td>\n",
              "      <td>3</td>\n",
              "      <td>IMSS</td>\n",
              "      <td>1</td>\n",
              "      <td>Sí</td>\n",
              "    </tr>\n",
              "  </tbody>\n",
              "</table>\n",
              "<p>5 rows × 24 columns</p>\n",
              "</div>"
            ],
            "text/plain": [
              "   mun_resid fechaRegistro  tloc_resid  ocupacion  sexo  edad  asist_medi  \\\n",
              "0         55    2017-02-24          13         99     1  4072           1   \n",
              "1         55    2017-02-20          13          8     1  4028           1   \n",
              "2         55    2017-01-20          13          9     1  4056           1   \n",
              "3         55    2017-01-09          13         11     2  4078           1   \n",
              "4         55    2017-02-11          13         11     2  4071           1   \n",
              "\n",
              "   sitio_ocur  lengua  Codigo_Municipio  ...  CVE_y  \\\n",
              "0           4       9              55.0  ...     99   \n",
              "1           3       9              55.0  ...      8   \n",
              "2           3       9              55.0  ...      9   \n",
              "3           9       9              55.0  ...     11   \n",
              "4           3       1              55.0  ...     11   \n",
              "\n",
              "                                     descr_ocupacion  x descr_sexo  CVE_y  \\\n",
              "0                                    No especificada  1     Hombre      1   \n",
              "1  Operadores de maquinaria industrial, ensamblad...  1     Hombre      1   \n",
              "2  Trabajadores en actividades elementales y de a...  1     Hombre      1   \n",
              "3                                         No trabaja  2      Mujer      1   \n",
              "4                                         No trabaja  2      Mujer      1   \n",
              "\n",
              "        descr_asist_medi  x       descr_sitio_ocur  CVE_y descr_lengua  \n",
              "0  Con asistencia médica  4                 ISSSTE      9    Se ignora  \n",
              "1  Con asistencia médica  3                   IMSS      9    Se ignora  \n",
              "2  Con asistencia médica  3                   IMSS      9    Se ignora  \n",
              "3  Con asistencia médica  9  Unidad médica privada      9    Se ignora  \n",
              "4  Con asistencia médica  3                   IMSS      1           Sí  \n",
              "\n",
              "[5 rows x 24 columns]"
            ]
          },
          "execution_count": 239,
          "metadata": {},
          "output_type": "execute_result"
        }
      ],
      "source": [
        "df_8.head()"
      ]
    },
    {
      "cell_type": "code",
      "execution_count": 213,
      "metadata": {},
      "outputs": [
        {
          "name": "stdout",
          "output_type": "stream",
          "text": [
            "<class 'pandas.core.frame.DataFrame'>\n",
            "Int64Index: 8012 entries, 0 to 8015\n",
            "Data columns (total 24 columns):\n",
            " #   Column               Non-Null Count  Dtype         \n",
            "---  ------               --------------  -----         \n",
            " 0   mun_resid            8012 non-null   int64         \n",
            " 1   fechaRegistro        8012 non-null   datetime64[ns]\n",
            " 2   tloc_resid           8012 non-null   int64         \n",
            " 3   ocupacion            8012 non-null   int64         \n",
            " 4   sexo                 8012 non-null   int64         \n",
            " 5   edad                 8012 non-null   int64         \n",
            " 6   asist_medi           8012 non-null   int64         \n",
            " 7   sitio_ocur           8012 non-null   int64         \n",
            " 8   lengua               8012 non-null   int64         \n",
            " 9   Codigo_Municipio     8012 non-null   float64       \n",
            " 10  Nombre_Municipio     8012 non-null   object        \n",
            " 11  Cantidad_Habitantes  8012 non-null   float64       \n",
            " 12  CVE_x                8012 non-null   int64         \n",
            " 13  DESCRIP_x            8012 non-null   object        \n",
            " 14  CVE_y                8012 non-null   int64         \n",
            " 15  DESCRIP_y            8012 non-null   object        \n",
            " 16  CVE_x                8012 non-null   int64         \n",
            " 17  DESCRIP_x            8012 non-null   object        \n",
            " 18  CVE_y                8012 non-null   int64         \n",
            " 19  DESCRIP_y            8012 non-null   object        \n",
            " 20  CVE_x                8012 non-null   int64         \n",
            " 21  DESCRIP_x            8012 non-null   object        \n",
            " 22  CVE_y                8012 non-null   int64         \n",
            " 23  DESCRIP_y            8012 non-null   object        \n",
            "dtypes: datetime64[ns](1), float64(2), int64(14), object(7)\n",
            "memory usage: 1.5+ MB\n"
          ]
        }
      ],
      "source": [
        "df_8.info()"
      ]
    },
    {
      "cell_type": "code",
      "execution_count": 46,
      "metadata": {
        "colab": {
          "base_uri": "https://localhost:8080/",
          "height": 237
        },
        "id": "xpjgKHVieZ-D",
        "outputId": "b480e886-8222-4dd9-882f-7510f9293925"
      },
      "outputs": [
        {
          "data": {
            "text/html": [
              "<div>\n",
              "<style scoped>\n",
              "    .dataframe tbody tr th:only-of-type {\n",
              "        vertical-align: middle;\n",
              "    }\n",
              "\n",
              "    .dataframe tbody tr th {\n",
              "        vertical-align: top;\n",
              "    }\n",
              "\n",
              "    .dataframe thead th {\n",
              "        text-align: right;\n",
              "    }\n",
              "</style>\n",
              "<table border=\"1\" class=\"dataframe\">\n",
              "  <thead>\n",
              "    <tr style=\"text-align: right;\">\n",
              "      <th></th>\n",
              "      <th>cant_Hombres</th>\n",
              "      <th>cant_Mujeres</th>\n",
              "    </tr>\n",
              "    <tr>\n",
              "      <th>mun_resid</th>\n",
              "      <th></th>\n",
              "      <th></th>\n",
              "    </tr>\n",
              "  </thead>\n",
              "  <tbody>\n",
              "    <tr>\n",
              "      <th>1</th>\n",
              "      <td>0</td>\n",
              "      <td>2</td>\n",
              "    </tr>\n",
              "    <tr>\n",
              "      <th>2</th>\n",
              "      <td>39</td>\n",
              "      <td>53</td>\n",
              "    </tr>\n",
              "    <tr>\n",
              "      <th>3</th>\n",
              "      <td>6</td>\n",
              "      <td>7</td>\n",
              "    </tr>\n",
              "    <tr>\n",
              "      <th>4</th>\n",
              "      <td>5</td>\n",
              "      <td>6</td>\n",
              "    </tr>\n",
              "    <tr>\n",
              "      <th>6</th>\n",
              "      <td>2</td>\n",
              "      <td>4</td>\n",
              "    </tr>\n",
              "  </tbody>\n",
              "</table>\n",
              "</div>"
            ],
            "text/plain": [
              "           cant_Hombres  cant_Mujeres\n",
              "mun_resid                            \n",
              "1                     0             2\n",
              "2                    39            53\n",
              "3                     6             7\n",
              "4                     5             6\n",
              "6                     2             4"
            ]
          },
          "execution_count": 46,
          "metadata": {},
          "output_type": "execute_result"
        }
      ],
      "source": [
        "valores = [1, 2]\n",
        "vSexo = rawDataDefunciones[rawDataDefunciones[\"sexo\"].isin(valores)].iloc[:, [0, 1]]\n",
        "vSexo[\"esHombre\"] = np.where(vSexo['sexo'] == 1, 1, 0)\n",
        "vSexo[\"esMujer\"] = np.where(vSexo['sexo'] == 2, 1, 0)\n",
        "vSexo.drop(columns=[\"sexo\"])\n",
        "df_sexo = vSexo.groupby('mun_resid').agg(cant_Hombres=('esHombre', 'sum'),\n",
        "                       cant_Mujeres=('esMujer', 'sum'))\n",
        "df_sexo.head()"
      ]
    },
    {
      "cell_type": "markdown",
      "metadata": {
        "id": "y8kxaQwyVyEM"
      },
      "source": [
        "Seguimos con la columna de asist_medi, pero en este caso solo nos interesa generar una columna de los que tuvieron asistencia medica.\n",
        "Nota: Previamente se habían filtrado los valores de los que tuvieron o no asistencia médica especificada."
      ]
    },
    {
      "cell_type": "code",
      "execution_count": 47,
      "metadata": {
        "colab": {
          "base_uri": "https://localhost:8080/",
          "height": 237
        },
        "id": "t159R0ybSziO",
        "outputId": "91b0806b-7fb8-4e44-f590-58630344b230"
      },
      "outputs": [
        {
          "data": {
            "text/html": [
              "<div>\n",
              "<style scoped>\n",
              "    .dataframe tbody tr th:only-of-type {\n",
              "        vertical-align: middle;\n",
              "    }\n",
              "\n",
              "    .dataframe tbody tr th {\n",
              "        vertical-align: top;\n",
              "    }\n",
              "\n",
              "    .dataframe thead th {\n",
              "        text-align: right;\n",
              "    }\n",
              "</style>\n",
              "<table border=\"1\" class=\"dataframe\">\n",
              "  <thead>\n",
              "    <tr style=\"text-align: right;\">\n",
              "      <th></th>\n",
              "      <th>cant_Asist</th>\n",
              "    </tr>\n",
              "    <tr>\n",
              "      <th>mun_resid</th>\n",
              "      <th></th>\n",
              "    </tr>\n",
              "  </thead>\n",
              "  <tbody>\n",
              "    <tr>\n",
              "      <th>1</th>\n",
              "      <td>2</td>\n",
              "    </tr>\n",
              "    <tr>\n",
              "      <th>2</th>\n",
              "      <td>91</td>\n",
              "    </tr>\n",
              "    <tr>\n",
              "      <th>3</th>\n",
              "      <td>9</td>\n",
              "    </tr>\n",
              "    <tr>\n",
              "      <th>4</th>\n",
              "      <td>7</td>\n",
              "    </tr>\n",
              "    <tr>\n",
              "      <th>6</th>\n",
              "      <td>2</td>\n",
              "    </tr>\n",
              "  </tbody>\n",
              "</table>\n",
              "</div>"
            ],
            "text/plain": [
              "           cant_Asist\n",
              "mun_resid            \n",
              "1                   2\n",
              "2                  91\n",
              "3                   9\n",
              "4                   7\n",
              "6                   2"
            ]
          },
          "execution_count": 47,
          "metadata": {},
          "output_type": "execute_result"
        }
      ],
      "source": [
        "valores = [1, 2]\n",
        "vAsist = rawDataDefunciones[rawDataDefunciones[\"asist_medi\"].isin(valores)].iloc[:, [0, 3]]\n",
        "vAsist[\"conAsist\"] = np.where(vAsist['asist_medi'] == 1, 1, 0)\n",
        "vAsist.drop(columns=[\"asist_medi\"])\n",
        "df_Asist = vAsist.groupby('mun_resid').agg(cant_Asist=('conAsist', 'sum'))\n",
        "df_Asist.head()"
      ]
    },
    {
      "cell_type": "markdown",
      "metadata": {
        "id": "eMuzqG6kWqMQ"
      },
      "source": [
        "6. Para la columna de edad, los valores tienen sus propios código definidos en un catálogo que viene en conjunto con los datos descargados, como el valor es numérico podemos aplicarle una transformación a esos datos para obtener el valor en años de la edad, también generamos un dataframe con la edad promedio de las muertes por municipio."
      ]
    },
    {
      "cell_type": "code",
      "execution_count": 48,
      "metadata": {
        "colab": {
          "base_uri": "https://localhost:8080/",
          "height": 237
        },
        "id": "M_KvV1e_XJem",
        "outputId": "48fa9cff-8d55-4f8d-cc9d-c3f00dc2ee16"
      },
      "outputs": [
        {
          "data": {
            "text/html": [
              "<div>\n",
              "<style scoped>\n",
              "    .dataframe tbody tr th:only-of-type {\n",
              "        vertical-align: middle;\n",
              "    }\n",
              "\n",
              "    .dataframe tbody tr th {\n",
              "        vertical-align: top;\n",
              "    }\n",
              "\n",
              "    .dataframe thead th {\n",
              "        text-align: right;\n",
              "    }\n",
              "</style>\n",
              "<table border=\"1\" class=\"dataframe\">\n",
              "  <thead>\n",
              "    <tr style=\"text-align: right;\">\n",
              "      <th></th>\n",
              "      <th>EdadPromedio</th>\n",
              "    </tr>\n",
              "    <tr>\n",
              "      <th>mun_resid</th>\n",
              "      <th></th>\n",
              "    </tr>\n",
              "  </thead>\n",
              "  <tbody>\n",
              "    <tr>\n",
              "      <th>1</th>\n",
              "      <td>58.500000</td>\n",
              "    </tr>\n",
              "    <tr>\n",
              "      <th>2</th>\n",
              "      <td>67.467391</td>\n",
              "    </tr>\n",
              "    <tr>\n",
              "      <th>3</th>\n",
              "      <td>68.923077</td>\n",
              "    </tr>\n",
              "    <tr>\n",
              "      <th>4</th>\n",
              "      <td>67.909091</td>\n",
              "    </tr>\n",
              "    <tr>\n",
              "      <th>6</th>\n",
              "      <td>78.500000</td>\n",
              "    </tr>\n",
              "  </tbody>\n",
              "</table>\n",
              "</div>"
            ],
            "text/plain": [
              "           EdadPromedio\n",
              "mun_resid              \n",
              "1             58.500000\n",
              "2             67.467391\n",
              "3             68.923077\n",
              "4             67.909091\n",
              "6             78.500000"
            ]
          },
          "execution_count": 48,
          "metadata": {},
          "output_type": "execute_result"
        }
      ],
      "source": [
        "valores = [4998] # Valor no especificado\n",
        "vEdad = rawDataDefunciones[-rawDataDefunciones[\"edad\"].isin(valores)].iloc[:, [0, 2]] # Agregamos el simbolo \"-\" para filtrar los valores que no estén en el df\n",
        "vEdad[\"Edad\"] = vEdad['edad'].apply(lambda x: 1 if x <= 4001 else x - 4000)\n",
        "vEdad.drop(columns=[\"edad\"])\n",
        "df_Edad = vEdad.groupby('mun_resid').agg(EdadPromedio=('Edad', 'mean'))\n",
        "df_Edad.head()"
      ]
    },
    {
      "cell_type": "markdown",
      "metadata": {
        "id": "S97Ae_gSEkt3"
      },
      "source": [
        "**Fuente 2**"
      ]
    },
    {
      "cell_type": "markdown",
      "metadata": {
        "id": "V16QpTPP8o3F"
      },
      "source": [
        "En este caso no se cuenta con un diccionario de datos y al guardar todos los valores directo de la tabla html, el tipo de datos de las columnas debería ser object, por lo que hay que transformarlo al tipo de datos que ocupemos."
      ]
    },
    {
      "cell_type": "markdown",
      "metadata": {
        "id": "MnrNEenw9VHe"
      },
      "source": [
        "1. Revisamos el tipo de datos y los valores nulos"
      ]
    },
    {
      "cell_type": "code",
      "execution_count": 49,
      "metadata": {
        "colab": {
          "base_uri": "https://localhost:8080/"
        },
        "id": "NRpY17FNrccE",
        "outputId": "5462503a-c131-418b-d37a-e2d2fb4b8455"
      },
      "outputs": [
        {
          "name": "stdout",
          "output_type": "stream",
          "text": [
            "<class 'pandas.core.frame.DataFrame'>\n",
            "RangeIndex: 72 entries, 0 to 71\n",
            "Data columns (total 3 columns):\n",
            " #   Column               Non-Null Count  Dtype \n",
            "---  ------               --------------  ----- \n",
            " 0   Codigo_Municipio     72 non-null     object\n",
            " 1   Nombre_Municipio     72 non-null     object\n",
            " 2   Cantidad_Habitantes  72 non-null     object\n",
            "dtypes: object(3)\n",
            "memory usage: 1.8+ KB\n"
          ]
        }
      ],
      "source": [
        "rawDataHabitantes.info()"
      ]
    },
    {
      "cell_type": "markdown",
      "metadata": {
        "id": "FqmzdZ2E9aYt"
      },
      "source": [
        "2. Realizamos la conversión de las columnas, en este caso solo transformamos las columnas Codigo_Municipio y Cantidad_Habitantes a tipo numérico."
      ]
    },
    {
      "cell_type": "code",
      "execution_count": 50,
      "metadata": {
        "colab": {
          "base_uri": "https://localhost:8080/"
        },
        "id": "TLJ0077k8Mq5",
        "outputId": "2420354e-52ee-40c8-e1aa-60ff50376759"
      },
      "outputs": [
        {
          "name": "stdout",
          "output_type": "stream",
          "text": [
            "<class 'pandas.core.frame.DataFrame'>\n",
            "RangeIndex: 72 entries, 0 to 71\n",
            "Data columns (total 3 columns):\n",
            " #   Column               Non-Null Count  Dtype \n",
            "---  ------               --------------  ----- \n",
            " 0   Codigo_Municipio     72 non-null     int64 \n",
            " 1   Nombre_Municipio     72 non-null     object\n",
            " 2   Cantidad_Habitantes  72 non-null     int64 \n",
            "dtypes: int64(2), object(1)\n",
            "memory usage: 1.8+ KB\n"
          ]
        }
      ],
      "source": [
        "rawDataHabitantes[\"Codigo_Municipio\"] = pd.to_numeric(rawDataHabitantes[\"Codigo_Municipio\"])\n",
        "rawDataHabitantes[\"Cantidad_Habitantes\"] = pd.to_numeric(rawDataHabitantes[\"Cantidad_Habitantes\"])\n",
        "rawDataHabitantes.info()"
      ]
    },
    {
      "cell_type": "markdown",
      "metadata": {
        "id": "d_VBevS5MWqx"
      },
      "source": [
        "# Generación de dataframe con datos tidy"
      ]
    },
    {
      "cell_type": "markdown",
      "metadata": {
        "id": "2gt6y62foze0"
      },
      "source": [
        "Después de todo este proceso obtuvimos varios dataframes, y al final todos se unirán para crear uno solo, por lo que ocupamos hacer múltiples join para generarlo."
      ]
    },
    {
      "cell_type": "markdown",
      "metadata": {
        "id": "QNkQo_81qDFD"
      },
      "source": [
        "1. Unir toda la información de sexo, edad y asistencia médica"
      ]
    },
    {
      "cell_type": "code",
      "execution_count": 51,
      "metadata": {
        "colab": {
          "base_uri": "https://localhost:8080/"
        },
        "id": "RkvOva_GqB4B",
        "outputId": "4c083e3d-2684-461f-ab97-fe2a6f7c5b46"
      },
      "outputs": [
        {
          "data": {
            "text/plain": [
              "(56, 4)"
            ]
          },
          "execution_count": 51,
          "metadata": {},
          "output_type": "execute_result"
        }
      ],
      "source": [
        "DatosDefunciones = df_sexo.merge(df_Asist,on='mun_resid').merge(df_Edad,on='mun_resid')\n",
        "DatosDefunciones.shape"
      ]
    },
    {
      "cell_type": "markdown",
      "metadata": {
        "id": "QYzsijcMs5Lf"
      },
      "source": [
        "Tenemos un dataframe con 56 filas, lo que significa que no tenemos información de todos los municipios, porque probablemente no hay defunciones registradas para esos municipios."
      ]
    },
    {
      "cell_type": "markdown",
      "metadata": {
        "id": "y6k56HdLqRk2"
      },
      "source": [
        "2. Finalmente unimos los datos de las defunciones con los datos de habitantes por municipio para formar una sola tabla con los datos que nos interesa conocer."
      ]
    },
    {
      "cell_type": "code",
      "execution_count": 52,
      "metadata": {
        "id": "MfTaUivyRW_8"
      },
      "outputs": [],
      "source": [
        "Tidy_Data = pd.merge(rawDataHabitantes, DatosDefunciones, how='left', left_on='Codigo_Municipio', right_on='mun_resid')"
      ]
    },
    {
      "cell_type": "markdown",
      "metadata": {
        "id": "q4LG1n3VtZC2"
      },
      "source": [
        "Rellenamos con 0 los valores faltantes transformamos algunas columnas a tipo entero."
      ]
    },
    {
      "cell_type": "code",
      "execution_count": 53,
      "metadata": {
        "colab": {
          "base_uri": "https://localhost:8080/",
          "height": 423
        },
        "id": "O94IEev1uDkR",
        "outputId": "e35b90b5-c4e3-48b8-d9e1-7e55647a2b91"
      },
      "outputs": [
        {
          "data": {
            "text/html": [
              "<div>\n",
              "<style scoped>\n",
              "    .dataframe tbody tr th:only-of-type {\n",
              "        vertical-align: middle;\n",
              "    }\n",
              "\n",
              "    .dataframe tbody tr th {\n",
              "        vertical-align: top;\n",
              "    }\n",
              "\n",
              "    .dataframe thead th {\n",
              "        text-align: right;\n",
              "    }\n",
              "</style>\n",
              "<table border=\"1\" class=\"dataframe\">\n",
              "  <thead>\n",
              "    <tr style=\"text-align: right;\">\n",
              "      <th></th>\n",
              "      <th>Codigo_Municipio</th>\n",
              "      <th>Nombre_Municipio</th>\n",
              "      <th>Cantidad_Habitantes</th>\n",
              "      <th>cant_Hombres</th>\n",
              "      <th>cant_Mujeres</th>\n",
              "      <th>cant_Asist</th>\n",
              "      <th>EdadPromedio</th>\n",
              "    </tr>\n",
              "  </thead>\n",
              "  <tbody>\n",
              "    <tr>\n",
              "      <th>0</th>\n",
              "      <td>1</td>\n",
              "      <td>Aconchi</td>\n",
              "      <td>2563</td>\n",
              "      <td>0</td>\n",
              "      <td>2</td>\n",
              "      <td>2</td>\n",
              "      <td>58.500000</td>\n",
              "    </tr>\n",
              "    <tr>\n",
              "      <th>1</th>\n",
              "      <td>2</td>\n",
              "      <td>Agua Prieta</td>\n",
              "      <td>91929</td>\n",
              "      <td>39</td>\n",
              "      <td>53</td>\n",
              "      <td>91</td>\n",
              "      <td>67.467391</td>\n",
              "    </tr>\n",
              "    <tr>\n",
              "      <th>2</th>\n",
              "      <td>3</td>\n",
              "      <td>Alamos</td>\n",
              "      <td>24976</td>\n",
              "      <td>6</td>\n",
              "      <td>7</td>\n",
              "      <td>9</td>\n",
              "      <td>68.923077</td>\n",
              "    </tr>\n",
              "    <tr>\n",
              "      <th>3</th>\n",
              "      <td>4</td>\n",
              "      <td>Altar</td>\n",
              "      <td>9492</td>\n",
              "      <td>5</td>\n",
              "      <td>6</td>\n",
              "      <td>7</td>\n",
              "      <td>67.909091</td>\n",
              "    </tr>\n",
              "    <tr>\n",
              "      <th>4</th>\n",
              "      <td>5</td>\n",
              "      <td>Arivechi</td>\n",
              "      <td>1177</td>\n",
              "      <td>0</td>\n",
              "      <td>0</td>\n",
              "      <td>0</td>\n",
              "      <td>0.000000</td>\n",
              "    </tr>\n",
              "    <tr>\n",
              "      <th>...</th>\n",
              "      <td>...</td>\n",
              "      <td>...</td>\n",
              "      <td>...</td>\n",
              "      <td>...</td>\n",
              "      <td>...</td>\n",
              "      <td>...</td>\n",
              "      <td>...</td>\n",
              "    </tr>\n",
              "    <tr>\n",
              "      <th>67</th>\n",
              "      <td>68</td>\n",
              "      <td>Villa Pesqueira</td>\n",
              "      <td>1043</td>\n",
              "      <td>1</td>\n",
              "      <td>0</td>\n",
              "      <td>1</td>\n",
              "      <td>78.000000</td>\n",
              "    </tr>\n",
              "    <tr>\n",
              "      <th>68</th>\n",
              "      <td>69</td>\n",
              "      <td>Yécora</td>\n",
              "      <td>4793</td>\n",
              "      <td>1</td>\n",
              "      <td>1</td>\n",
              "      <td>2</td>\n",
              "      <td>62.000000</td>\n",
              "    </tr>\n",
              "    <tr>\n",
              "      <th>69</th>\n",
              "      <td>70</td>\n",
              "      <td>General Plutarco Elías Calles</td>\n",
              "      <td>13627</td>\n",
              "      <td>8</td>\n",
              "      <td>10</td>\n",
              "      <td>6</td>\n",
              "      <td>66.722222</td>\n",
              "    </tr>\n",
              "    <tr>\n",
              "      <th>70</th>\n",
              "      <td>71</td>\n",
              "      <td>Benito Juárez</td>\n",
              "      <td>21692</td>\n",
              "      <td>12</td>\n",
              "      <td>10</td>\n",
              "      <td>20</td>\n",
              "      <td>65.818182</td>\n",
              "    </tr>\n",
              "    <tr>\n",
              "      <th>71</th>\n",
              "      <td>72</td>\n",
              "      <td>San Ignacio Río Muerto</td>\n",
              "      <td>14279</td>\n",
              "      <td>8</td>\n",
              "      <td>6</td>\n",
              "      <td>14</td>\n",
              "      <td>72.857143</td>\n",
              "    </tr>\n",
              "  </tbody>\n",
              "</table>\n",
              "<p>72 rows × 7 columns</p>\n",
              "</div>"
            ],
            "text/plain": [
              "    Codigo_Municipio               Nombre_Municipio  Cantidad_Habitantes  \\\n",
              "0                  1                        Aconchi                 2563   \n",
              "1                  2                    Agua Prieta                91929   \n",
              "2                  3                         Alamos                24976   \n",
              "3                  4                          Altar                 9492   \n",
              "4                  5                       Arivechi                 1177   \n",
              "..               ...                            ...                  ...   \n",
              "67                68                Villa Pesqueira                 1043   \n",
              "68                69                         Yécora                 4793   \n",
              "69                70  General Plutarco Elías Calles                13627   \n",
              "70                71                  Benito Juárez                21692   \n",
              "71                72         San Ignacio Río Muerto                14279   \n",
              "\n",
              "    cant_Hombres  cant_Mujeres  cant_Asist  EdadPromedio  \n",
              "0              0             2           2     58.500000  \n",
              "1             39            53          91     67.467391  \n",
              "2              6             7           9     68.923077  \n",
              "3              5             6           7     67.909091  \n",
              "4              0             0           0      0.000000  \n",
              "..           ...           ...         ...           ...  \n",
              "67             1             0           1     78.000000  \n",
              "68             1             1           2     62.000000  \n",
              "69             8            10           6     66.722222  \n",
              "70            12            10          20     65.818182  \n",
              "71             8             6          14     72.857143  \n",
              "\n",
              "[72 rows x 7 columns]"
            ]
          },
          "execution_count": 53,
          "metadata": {},
          "output_type": "execute_result"
        }
      ],
      "source": [
        "Tidy_Data = Tidy_Data.fillna(0)\n",
        "Tidy_Data['cant_Hombres'] = Tidy_Data['cant_Hombres'].astype('int')\n",
        "Tidy_Data['cant_Mujeres'] = Tidy_Data['cant_Mujeres'].astype('int')\n",
        "Tidy_Data['cant_Asist'] = Tidy_Data['cant_Asist'].astype('int')\n",
        "Tidy_Data"
      ]
    },
    {
      "cell_type": "code",
      "execution_count": 54,
      "metadata": {
        "colab": {
          "base_uri": "https://localhost:8080/"
        },
        "id": "DQIa4Y4RwfSo",
        "outputId": "2992dcbb-0e2c-43e2-94bb-8b766482d66e"
      },
      "outputs": [
        {
          "data": {
            "text/plain": [
              "Codigo_Municipio         int64\n",
              "Nombre_Municipio        object\n",
              "Cantidad_Habitantes      int64\n",
              "cant_Hombres             int32\n",
              "cant_Mujeres             int32\n",
              "cant_Asist               int32\n",
              "EdadPromedio           float64\n",
              "dtype: object"
            ]
          },
          "execution_count": 54,
          "metadata": {},
          "output_type": "execute_result"
        }
      ],
      "source": [
        "Tidy_Data.dtypes"
      ]
    },
    {
      "cell_type": "code",
      "execution_count": 57,
      "metadata": {},
      "outputs": [
        {
          "data": {
            "application/vnd.jupyter.widget-view+json": {
              "model_id": "246fed24778b4fca9a7407b4ff2ea8a1",
              "version_major": 2,
              "version_minor": 0
            },
            "text/plain": [
              "Summarize dataset:   0%|          | 0/5 [00:00<?, ?it/s]"
            ]
          },
          "metadata": {},
          "output_type": "display_data"
        },
        {
          "data": {
            "application/vnd.jupyter.widget-view+json": {
              "model_id": "b1b53e676f7245cf8037deda12e06cd4",
              "version_major": 2,
              "version_minor": 0
            },
            "text/plain": [
              "Generate report structure:   0%|          | 0/1 [00:00<?, ?it/s]"
            ]
          },
          "metadata": {},
          "output_type": "display_data"
        },
        {
          "data": {
            "application/vnd.jupyter.widget-view+json": {
              "model_id": "648729cf3541449b830a21d02d4d0c80",
              "version_major": 2,
              "version_minor": 0
            },
            "text/plain": [
              "Render HTML:   0%|          | 0/1 [00:00<?, ?it/s]"
            ]
          },
          "metadata": {},
          "output_type": "display_data"
        },
        {
          "data": {
            "application/vnd.jupyter.widget-view+json": {
              "model_id": "84a5976cae1e4a0eb1927519bfba5f4a",
              "version_major": 2,
              "version_minor": 0
            },
            "text/plain": [
              "Export report to file:   0%|          | 0/1 [00:00<?, ?it/s]"
            ]
          },
          "metadata": {},
          "output_type": "display_data"
        }
      ],
      "source": [
        "from pandas_profiling import ProfileReport\n",
        "profile = ProfileReport(Tidy_Data, title=\"EDA_defunciones_diabetes\")\n",
        "profile.to_file(\"EDA_Defunciones_Diabetes.html\")"
      ]
    },
    {
      "cell_type": "markdown",
      "metadata": {
        "id": "MdrFO_e_4Cof"
      },
      "source": [
        "# Generación de diccionario de datos para la tabla tidy"
      ]
    },
    {
      "cell_type": "code",
      "execution_count": 55,
      "metadata": {
        "colab": {
          "base_uri": "https://localhost:8080/",
          "height": 269
        },
        "id": "4qZbQNh_4MEM",
        "outputId": "034fa498-8743-438c-fb95-116792b121ea"
      },
      "outputs": [
        {
          "data": {
            "text/html": [
              "<div>\n",
              "<style scoped>\n",
              "    .dataframe tbody tr th:only-of-type {\n",
              "        vertical-align: middle;\n",
              "    }\n",
              "\n",
              "    .dataframe tbody tr th {\n",
              "        vertical-align: top;\n",
              "    }\n",
              "\n",
              "    .dataframe thead th {\n",
              "        text-align: right;\n",
              "    }\n",
              "</style>\n",
              "<table border=\"1\" class=\"dataframe\">\n",
              "  <thead>\n",
              "    <tr style=\"text-align: right;\">\n",
              "      <th></th>\n",
              "      <th>Nombre_Variable</th>\n",
              "      <th>Descripción</th>\n",
              "      <th>Tipo_Dato</th>\n",
              "      <th>Detalles_Obtención</th>\n",
              "    </tr>\n",
              "  </thead>\n",
              "  <tbody>\n",
              "    <tr>\n",
              "      <th>0</th>\n",
              "      <td>Codigo_Municipio</td>\n",
              "      <td>Código INEGI de municipio de Sonora</td>\n",
              "      <td>Numérico (int64)</td>\n",
              "      <td>Fuente 2</td>\n",
              "    </tr>\n",
              "    <tr>\n",
              "      <th>1</th>\n",
              "      <td>Nombre_Municipio</td>\n",
              "      <td>Nombre del municipio</td>\n",
              "      <td>String (object)</td>\n",
              "      <td>Fuente 2</td>\n",
              "    </tr>\n",
              "    <tr>\n",
              "      <th>2</th>\n",
              "      <td>Cantidad_Habitantes</td>\n",
              "      <td>Cantidad de habitantes del municipio</td>\n",
              "      <td>Numérico (int64)</td>\n",
              "      <td>Fuente 2</td>\n",
              "    </tr>\n",
              "    <tr>\n",
              "      <th>3</th>\n",
              "      <td>cant_Hombres</td>\n",
              "      <td>Cantidad de defunciones masculinas por municipio</td>\n",
              "      <td>Numérico (int64)</td>\n",
              "      <td>Fuente 1: derivado columna sexo (suma)</td>\n",
              "    </tr>\n",
              "    <tr>\n",
              "      <th>4</th>\n",
              "      <td>cant_Mujeres</td>\n",
              "      <td>Cantidad de defunciones femeninas por municipio</td>\n",
              "      <td>Numérico (int64)</td>\n",
              "      <td>Fuente 1: derivado columna sexo (suma)</td>\n",
              "    </tr>\n",
              "    <tr>\n",
              "      <th>5</th>\n",
              "      <td>cant_Asist</td>\n",
              "      <td>Cantidad de defunciones con asistencia médica</td>\n",
              "      <td>Numérico (int64)</td>\n",
              "      <td>Fuente 1: suma</td>\n",
              "    </tr>\n",
              "    <tr>\n",
              "      <th>6</th>\n",
              "      <td>EdadPromedio</td>\n",
              "      <td>Edad promedio de las defunciones por municipio</td>\n",
              "      <td>Numérico (float64)</td>\n",
              "      <td>Fuente 1: promedio</td>\n",
              "    </tr>\n",
              "  </tbody>\n",
              "</table>\n",
              "</div>"
            ],
            "text/plain": [
              "       Nombre_Variable                                       Descripción  \\\n",
              "0     Codigo_Municipio               Código INEGI de municipio de Sonora   \n",
              "1     Nombre_Municipio                              Nombre del municipio   \n",
              "2  Cantidad_Habitantes              Cantidad de habitantes del municipio   \n",
              "3         cant_Hombres  Cantidad de defunciones masculinas por municipio   \n",
              "4         cant_Mujeres   Cantidad de defunciones femeninas por municipio   \n",
              "5           cant_Asist     Cantidad de defunciones con asistencia médica   \n",
              "6         EdadPromedio    Edad promedio de las defunciones por municipio   \n",
              "\n",
              "            Tipo_Dato                      Detalles_Obtención  \n",
              "0    Numérico (int64)                                Fuente 2  \n",
              "1     String (object)                                Fuente 2  \n",
              "2    Numérico (int64)                                Fuente 2  \n",
              "3    Numérico (int64)  Fuente 1: derivado columna sexo (suma)  \n",
              "4    Numérico (int64)  Fuente 1: derivado columna sexo (suma)  \n",
              "5    Numérico (int64)                          Fuente 1: suma  \n",
              "6  Numérico (float64)                      Fuente 1: promedio  "
            ]
          },
          "execution_count": 55,
          "metadata": {},
          "output_type": "execute_result"
        }
      ],
      "source": [
        "lista = [[] for _ in range(len(Tidy_Data.columns))]\n",
        "lista[0] = [\"Codigo_Municipio\", \"Código INEGI de municipio de Sonora\", \"Numérico (int64)\", \"Fuente 2\"]\n",
        "lista[1] = [\"Nombre_Municipio\", \"Nombre del municipio\", \"String (object)\", \"Fuente 2\"]\n",
        "lista[2] = [\"Cantidad_Habitantes\", \"Cantidad de habitantes del municipio\", \"Numérico (int64)\", \"Fuente 2\"]\n",
        "lista[3] = [\"cant_Hombres\", \"Cantidad de defunciones masculinas por municipio\", \"Numérico (int64)\", \"Fuente 1: derivado columna sexo (suma)\"]\n",
        "lista[4] = [\"cant_Mujeres\", \"Cantidad de defunciones femeninas por municipio\", \"Numérico (int64)\", \"Fuente 1: derivado columna sexo (suma)\"]\n",
        "lista[5] = [\"cant_Asist\", \"Cantidad de defunciones con asistencia médica\", \"Numérico (int64)\", \"Fuente 1: suma\"]\n",
        "lista[6] = [\"EdadPromedio\", \"Edad promedio de las defunciones por municipio\", \"Numérico (float64)\", \"Fuente 1: promedio\"]\n",
        "diccionario = pd.DataFrame(lista, columns=[\"Nombre_Variable\", \"Descripción\",\"Tipo_Dato\", \"Detalles_Obtención\"])\n",
        "diccionario"
      ]
    },
    {
      "cell_type": "markdown",
      "metadata": {
        "id": "yvZiNMfuFmWZ"
      },
      "source": [
        "Guardamos nuestro dataframe con datos tidy y nuestro diccionario de datos"
      ]
    },
    {
      "cell_type": "code",
      "execution_count": 56,
      "metadata": {
        "id": "EfOJgoOQFxbX"
      },
      "outputs": [],
      "source": [
        "subdir = \"./data/tidy_data/\"\n",
        "if not os.path.exists(subdir):\n",
        "        os.makedirs(subdir)\n",
        "Tidy_Data.to_parquet(subdir + 'Tidy_data.parquet')\n",
        "diccionario.to_parquet(subdir + 'Diccionario.parquet')"
      ]
    }
  ],
  "metadata": {
    "colab": {
      "collapsed_sections": [],
      "provenance": []
    },
    "kernelspec": {
      "display_name": "Python 3.10.6 64-bit",
      "language": "python",
      "name": "python3"
    },
    "language_info": {
      "codemirror_mode": {
        "name": "ipython",
        "version": 3
      },
      "file_extension": ".py",
      "mimetype": "text/x-python",
      "name": "python",
      "nbconvert_exporter": "python",
      "pygments_lexer": "ipython3",
      "version": "3.10.6"
    },
    "vscode": {
      "interpreter": {
        "hash": "1cbadf7e30f156f4e0b68f4bca81fa70237e67691d6ebe573bb449e31d409fb8"
      }
    }
  },
  "nbformat": 4,
  "nbformat_minor": 0
}
