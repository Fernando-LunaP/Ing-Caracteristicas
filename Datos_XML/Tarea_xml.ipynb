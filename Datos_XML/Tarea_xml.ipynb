{
 "cells": [
  {
   "cell_type": "markdown",
   "metadata": {},
   "source": [
    "<center>\n",
    "<img src=\"https://mcd.unison.mx/wp-content/themes/awaken/img/logo_mcd.png\" width=\"150\">\n",
    "</center>\n",
    "<center>\n",
    "<h1>Ingeniería de Características</h1>\n",
    "</center>\n",
    "<center>\n",
    "<h3>Tarea 1</h3>\n",
    "</center>\n",
    "<center>\n",
    "<h3> Fernando Luna Ponce </h3>\n",
    "</center>"
   ]
  },
  {
   "cell_type": "markdown",
   "metadata": {},
   "source": [
    "Importamos las librerías necesarias"
   ]
  },
  {
   "cell_type": "code",
   "execution_count": 268,
   "metadata": {},
   "outputs": [],
   "source": [
    "import requests\n",
    "import xml.dom.minidom\n",
    "import xml.etree.ElementTree as ET\n",
    "import re\n",
    "import pandas as pd"
   ]
  },
  {
   "cell_type": "markdown",
   "metadata": {},
   "source": [
    "Definimos funciones que nos servirán más adelante"
   ]
  },
  {
   "cell_type": "code",
   "execution_count": 269,
   "metadata": {},
   "outputs": [],
   "source": [
    "def getRegexText(regex, labelText): #Para obtener los textos de un string que hagan match con la expresión regular\n",
    "  matches =  re.finditer(regex, labelText, re.MULTILINE) # regex multilinea\n",
    "  for matchNum, match in enumerate(matches, start=1):\n",
    "    texto = match.group()\n",
    "    return texto\n",
    "\n",
    "def get_namespace(element): # Para obtener el namespace\n",
    "  m = re.match('\\{.*\\}', element.tag)\n",
    "  return m.group(0) if m else ''\n",
    "\n",
    "def getTagName(tag, namespace): # Para concatenar el namespace con el nombre del tag que queremos encontrar\n",
    "  return namespace + tag"
   ]
  },
  {
   "cell_type": "markdown",
   "metadata": {},
   "source": [
    "Hacemos la petición de descarga para el archivo solicitado y lo guardamos de manera local como xml"
   ]
  },
  {
   "cell_type": "code",
   "execution_count": 270,
   "metadata": {},
   "outputs": [],
   "source": [
    "url = 'https://raw.githubusercontent.com/mcd-unison/ing-caract/main/ejemplos/integracion/ejemplos/wikipedia-poetas.xml'\n",
    "\n",
    "response = requests.get(url)\n",
    "with open('poetas.xml', 'wb') as file:\n",
    "    file.write(response.content)\n"
   ]
  },
  {
   "cell_type": "markdown",
   "metadata": {},
   "source": [
    "utilizamos las funciones de la biblioteca xml.dom.minidom para mostrar la información del xml estilo que es más fácil para visualizar su estructura"
   ]
  },
  {
   "cell_type": "code",
   "execution_count": null,
   "metadata": {},
   "outputs": [],
   "source": [
    "dom = xml.dom.minidom.parse('poetas.xml') # xml.dom.minidom.parseString(xml_string)\n",
    "pretty_xml_as_string = dom.toprettyxml()\n",
    "print(pretty_xml_as_string)"
   ]
  },
  {
   "cell_type": "markdown",
   "metadata": {},
   "source": [
    "Como podemos observar, se genera todo un árbol que presenta cierta estructura, aquí vemos que tenemos al mismo nivel la etiqueta siteinfo y page, de las cuales siteinfo no la necesitamos y también se tiene que por cada etiqueta page está contenida la información de un poeta argentino."
   ]
  },
  {
   "cell_type": "markdown",
   "metadata": {},
   "source": [
    "Extraemos la información del xml con las funciones de ElementTree"
   ]
  },
  {
   "cell_type": "code",
   "execution_count": 272,
   "metadata": {},
   "outputs": [],
   "source": [
    "tree = ET.parse('poetas.xml')\n",
    "root = tree.getroot()"
   ]
  },
  {
   "cell_type": "markdown",
   "metadata": {},
   "source": [
    "Obtenemos el namespace del xml"
   ]
  },
  {
   "cell_type": "code",
   "execution_count": 273,
   "metadata": {},
   "outputs": [
    {
     "name": "stdout",
     "output_type": "stream",
     "text": [
      "{http://www.mediawiki.org/xml/export-0.10/}\n"
     ]
    }
   ],
   "source": [
    "namespace = get_namespace(tree.getroot()) # Obtenemos el namespace del xml\n",
    "print(namespace)"
   ]
  },
  {
   "cell_type": "markdown",
   "metadata": {},
   "source": [
    "Despues de analizar el xml hemos determinado que vamos a guardar a guardar el nombre de cada autor y las obras que realizó. Esta información nos pude servir para analizar la cantidad obras realizadas por cada autor y su contribución a la literatura argentina."
   ]
  },
  {
   "cell_type": "markdown",
   "metadata": {},
   "source": [
    "Vamos a guardar toda esta información en un dataframe, con un registro por cada obra. Cada registro contendrá un id incremental asignado a cada autor y un id incremental para cada obra."
   ]
  },
  {
   "cell_type": "code",
   "execution_count": 274,
   "metadata": {},
   "outputs": [],
   "source": [
    "df = pd.DataFrame(columns=['idAutor', 'Autor', 'IdObra', 'Obra'])"
   ]
  },
  {
   "cell_type": "markdown",
   "metadata": {},
   "source": [
    "Accedemos a la información con un ciclo para extraer el nombre del autor, y utilizamos un ciclo for para extraer la información de sus obras, solo que en esta parte también necesitamos hacer uso de expresiones regulares para extraer el nombre de la obra."
   ]
  },
  {
   "cell_type": "code",
   "execution_count": 275,
   "metadata": {},
   "outputs": [],
   "source": [
    "regexObras = r\"\\={2,3}\\sObras?\\s\\={2,3}\\s(\\n.|.)*[^\\S]{2}\" # Expresión regular para extraer solo la parte de obras de cada texto\n",
    "regexEObra = r\"^\\*\\s.*\" # Expresión regular para extraer individualmente cada obra realizada por el autor\n",
    "\n",
    "i = 0\n",
    "j = 0\n",
    "\n",
    "for page in root.findall(getTagName('page', namespace)):\n",
    "    autor = page.find(getTagName('title', namespace))\n",
    "    title =  page.find(getTagName('revision', namespace))\n",
    "    texto = title.find(getTagName('text', namespace))\n",
    "    Biografias = getRegexText(regexObras, texto.text)\n",
    "    if Biografias != None: # Si el autor no tiene información \n",
    "        matches = re.finditer(regexEObra, Biografias, re.MULTILINE)\n",
    "        for matchNum, match in enumerate(matches, start=1):\n",
    "            b = match.group()\n",
    "            df.loc[j] = [i, autor.text, matchNum-1, b]\n",
    "            j += 1\n",
    "    i += 1\n"
   ]
  },
  {
   "cell_type": "markdown",
   "metadata": {},
   "source": [
    "Mostramos el contenido del dataframe generado."
   ]
  },
  {
   "cell_type": "code",
   "execution_count": 276,
   "metadata": {},
   "outputs": [
    {
     "name": "stdout",
     "output_type": "stream",
     "text": [
      "      idAutor                      Autor  IdObra  \\\n",
      "0           0  Julia Morilla de Campbell       0   \n",
      "1           0  Julia Morilla de Campbell       1   \n",
      "2           0  Julia Morilla de Campbell       2   \n",
      "3           0  Julia Morilla de Campbell       3   \n",
      "4           0  Julia Morilla de Campbell       4   \n",
      "...       ...                        ...     ...   \n",
      "1831      632                 Ireneo Paz       4   \n",
      "1832      632                 Ireneo Paz       5   \n",
      "1833      632                 Ireneo Paz       6   \n",
      "1834      634            Humberto Tejera       0   \n",
      "1835      634            Humberto Tejera       1   \n",
      "\n",
      "                                                   Obra  \n",
      "0     * 1976: ''Crines al viento''.<ref>[http://abr....  \n",
      "1     * 1976: ''Adiós Canopus: viaje por la Mesopota...  \n",
      "2     * 1978: ''Viajando con el calendario escolar: ...  \n",
      "3     * 1978: ''El rey: aventuras de un cóndor neuqu...  \n",
      "4     * 1976: ''Sombrero negro, vida y aventuras en ...  \n",
      "...                                                 ...  \n",
      "1831  * ''Leyendas históricas de la Independencia'',...  \n",
      "1832  * ''Vida y aventuras de Joaquín Murrieta, famo...  \n",
      "1833                * ''Leyendas históricas'', [[1914]]  \n",
      "1834  * ''Los Gómez y el poder judicial de Venezuela...  \n",
      "1835   * ''Doce años de rehabilitación''. México. 1920.  \n",
      "\n",
      "[1836 rows x 4 columns]\n"
     ]
    }
   ],
   "source": [
    "print(df)"
   ]
  },
  {
   "cell_type": "markdown",
   "metadata": {},
   "source": [
    "Guardamos el dataframe en formato parquet"
   ]
  },
  {
   "cell_type": "code",
   "execution_count": 277,
   "metadata": {},
   "outputs": [],
   "source": [
    "df.to_parquet('data.parquet')"
   ]
  },
  {
   "cell_type": "markdown",
   "metadata": {},
   "source": [
    "Leemos el archivo para observar su estructura"
   ]
  },
  {
   "cell_type": "code",
   "execution_count": 278,
   "metadata": {},
   "outputs": [
    {
     "data": {
      "text/html": [
       "<div>\n",
       "<style scoped>\n",
       "    .dataframe tbody tr th:only-of-type {\n",
       "        vertical-align: middle;\n",
       "    }\n",
       "\n",
       "    .dataframe tbody tr th {\n",
       "        vertical-align: top;\n",
       "    }\n",
       "\n",
       "    .dataframe thead th {\n",
       "        text-align: right;\n",
       "    }\n",
       "</style>\n",
       "<table border=\"1\" class=\"dataframe\">\n",
       "  <thead>\n",
       "    <tr style=\"text-align: right;\">\n",
       "      <th></th>\n",
       "      <th>idAutor</th>\n",
       "      <th>Autor</th>\n",
       "      <th>IdObra</th>\n",
       "      <th>Obra</th>\n",
       "    </tr>\n",
       "  </thead>\n",
       "  <tbody>\n",
       "    <tr>\n",
       "      <th>0</th>\n",
       "      <td>0</td>\n",
       "      <td>Julia Morilla de Campbell</td>\n",
       "      <td>0</td>\n",
       "      <td>* 1976: ''Crines al viento''.&lt;ref&gt;[http://abr....</td>\n",
       "    </tr>\n",
       "    <tr>\n",
       "      <th>1</th>\n",
       "      <td>0</td>\n",
       "      <td>Julia Morilla de Campbell</td>\n",
       "      <td>1</td>\n",
       "      <td>* 1976: ''Adiós Canopus: viaje por la Mesopota...</td>\n",
       "    </tr>\n",
       "    <tr>\n",
       "      <th>2</th>\n",
       "      <td>0</td>\n",
       "      <td>Julia Morilla de Campbell</td>\n",
       "      <td>2</td>\n",
       "      <td>* 1978: ''Viajando con el calendario escolar: ...</td>\n",
       "    </tr>\n",
       "    <tr>\n",
       "      <th>3</th>\n",
       "      <td>0</td>\n",
       "      <td>Julia Morilla de Campbell</td>\n",
       "      <td>3</td>\n",
       "      <td>* 1978: ''El rey: aventuras de un cóndor neuqu...</td>\n",
       "    </tr>\n",
       "    <tr>\n",
       "      <th>4</th>\n",
       "      <td>0</td>\n",
       "      <td>Julia Morilla de Campbell</td>\n",
       "      <td>4</td>\n",
       "      <td>* 1976: ''Sombrero negro, vida y aventuras en ...</td>\n",
       "    </tr>\n",
       "    <tr>\n",
       "      <th>...</th>\n",
       "      <td>...</td>\n",
       "      <td>...</td>\n",
       "      <td>...</td>\n",
       "      <td>...</td>\n",
       "    </tr>\n",
       "    <tr>\n",
       "      <th>1831</th>\n",
       "      <td>632</td>\n",
       "      <td>Ireneo Paz</td>\n",
       "      <td>4</td>\n",
       "      <td>* ''Leyendas históricas de la Independencia'',...</td>\n",
       "    </tr>\n",
       "    <tr>\n",
       "      <th>1832</th>\n",
       "      <td>632</td>\n",
       "      <td>Ireneo Paz</td>\n",
       "      <td>5</td>\n",
       "      <td>* ''Vida y aventuras de Joaquín Murrieta, famo...</td>\n",
       "    </tr>\n",
       "    <tr>\n",
       "      <th>1833</th>\n",
       "      <td>632</td>\n",
       "      <td>Ireneo Paz</td>\n",
       "      <td>6</td>\n",
       "      <td>* ''Leyendas históricas'', [[1914]]</td>\n",
       "    </tr>\n",
       "    <tr>\n",
       "      <th>1834</th>\n",
       "      <td>634</td>\n",
       "      <td>Humberto Tejera</td>\n",
       "      <td>0</td>\n",
       "      <td>* ''Los Gómez y el poder judicial de Venezuela...</td>\n",
       "    </tr>\n",
       "    <tr>\n",
       "      <th>1835</th>\n",
       "      <td>634</td>\n",
       "      <td>Humberto Tejera</td>\n",
       "      <td>1</td>\n",
       "      <td>* ''Doce años de rehabilitación''. México. 1920.</td>\n",
       "    </tr>\n",
       "  </tbody>\n",
       "</table>\n",
       "<p>1836 rows × 4 columns</p>\n",
       "</div>"
      ],
      "text/plain": [
       "      idAutor                      Autor  IdObra  \\\n",
       "0           0  Julia Morilla de Campbell       0   \n",
       "1           0  Julia Morilla de Campbell       1   \n",
       "2           0  Julia Morilla de Campbell       2   \n",
       "3           0  Julia Morilla de Campbell       3   \n",
       "4           0  Julia Morilla de Campbell       4   \n",
       "...       ...                        ...     ...   \n",
       "1831      632                 Ireneo Paz       4   \n",
       "1832      632                 Ireneo Paz       5   \n",
       "1833      632                 Ireneo Paz       6   \n",
       "1834      634            Humberto Tejera       0   \n",
       "1835      634            Humberto Tejera       1   \n",
       "\n",
       "                                                   Obra  \n",
       "0     * 1976: ''Crines al viento''.<ref>[http://abr....  \n",
       "1     * 1976: ''Adiós Canopus: viaje por la Mesopota...  \n",
       "2     * 1978: ''Viajando con el calendario escolar: ...  \n",
       "3     * 1978: ''El rey: aventuras de un cóndor neuqu...  \n",
       "4     * 1976: ''Sombrero negro, vida y aventuras en ...  \n",
       "...                                                 ...  \n",
       "1831  * ''Leyendas históricas de la Independencia'',...  \n",
       "1832  * ''Vida y aventuras de Joaquín Murrieta, famo...  \n",
       "1833                * ''Leyendas históricas'', [[1914]]  \n",
       "1834  * ''Los Gómez y el poder judicial de Venezuela...  \n",
       "1835   * ''Doce años de rehabilitación''. México. 1920.  \n",
       "\n",
       "[1836 rows x 4 columns]"
      ]
     },
     "execution_count": 278,
     "metadata": {},
     "output_type": "execute_result"
    }
   ],
   "source": [
    "parquet_file = 'data.parquet' \n",
    "pd.read_parquet(parquet_file, engine='pyarrow')"
   ]
  }
 ],
 "metadata": {
  "kernelspec": {
   "display_name": "Python 3.10.6 64-bit",
   "language": "python",
   "name": "python3"
  },
  "language_info": {
   "codemirror_mode": {
    "name": "ipython",
    "version": 3
   },
   "file_extension": ".py",
   "mimetype": "text/x-python",
   "name": "python",
   "nbconvert_exporter": "python",
   "pygments_lexer": "ipython3",
   "version": "3.10.6"
  },
  "orig_nbformat": 4,
  "vscode": {
   "interpreter": {
    "hash": "1cbadf7e30f156f4e0b68f4bca81fa70237e67691d6ebe573bb449e31d409fb8"
   }
  }
 },
 "nbformat": 4,
 "nbformat_minor": 2
}
